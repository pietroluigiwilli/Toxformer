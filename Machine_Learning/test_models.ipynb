{
 "cells": [
  {
   "cell_type": "code",
   "execution_count": 2,
   "metadata": {
    "colab": {
     "base_uri": "https://localhost:8080/"
    },
    "executionInfo": {
     "elapsed": 5179,
     "status": "ok",
     "timestamp": 1684479081384,
     "user": {
      "displayName": "Pietro Willi",
      "userId": "15277835975467968244"
     },
     "user_tz": -120
    },
    "id": "PfVZUfG3uUxH",
    "outputId": "8f040002-fa9a-4071-8833-5e645e734367"
   },
   "outputs": [
    {
     "name": "stdout",
     "output_type": "stream",
     "text": [
      "Looking in indexes: https://pypi.org/simple, https://us-python.pkg.dev/colab-wheels/public/simple/\n",
      "Collecting rdkit\n",
      "  Downloading rdkit-2023.3.1-cp310-cp310-manylinux_2_17_x86_64.manylinux2014_x86_64.whl (29.7 MB)\n",
      "\u001b[2K     \u001b[90m━━━━━━━━━━━━━━━━━━━━━━━━━━━━━━━━━━━━━━━━\u001b[0m \u001b[32m29.7/29.7 MB\u001b[0m \u001b[31m50.2 MB/s\u001b[0m eta \u001b[36m0:00:00\u001b[0m\n",
      "\u001b[?25hRequirement already satisfied: numpy in /usr/local/lib/python3.10/dist-packages (from rdkit) (1.22.4)\n",
      "Requirement already satisfied: Pillow in /usr/local/lib/python3.10/dist-packages (from rdkit) (8.4.0)\n",
      "Installing collected packages: rdkit\n",
      "Successfully installed rdkit-2023.3.1\n"
     ]
    }
   ],
   "source": [
    "!pip install rdkit"
   ]
  },
  {
   "cell_type": "code",
   "execution_count": 1,
   "metadata": {
    "colab": {
     "base_uri": "https://localhost:8080/"
    },
    "executionInfo": {
     "elapsed": 12870,
     "status": "ok",
     "timestamp": 1684485336691,
     "user": {
      "displayName": "Pietro Willi",
      "userId": "15277835975467968244"
     },
     "user_tz": -120
    },
    "id": "xMbKZgDeuEFX",
    "outputId": "afae7546-d14f-4d6f-e631-dbc88a4a74a0"
   },
   "outputs": [],
   "source": [
    "import joblib\n",
    "import torch\n",
    "import pandas as pd\n",
    "import sklearn\n",
    "import numpy as np\n",
    "import matplotlib.pyplot as plt\n",
    "import seaborn as sb\n",
    "from tqdm.notebook import tqdm\n",
    "from rdkit.Chem import AllChem as Chem\n",
    "from rdkit.Chem import QED\n",
    "from rdkit.Chem import MolSurf\n",
    "from rdkit.Chem import rdFreeSASA as SASA\n",
    "import os\n",
    "#from google.colab import drive\n",
    "import operator\n",
    "#drive.mount('/content/drive')\n",
    "from dataframe_pipeline_script import Dataset\n",
    "from Toxformer_EncoderDecoder_Classifier import ClassificationTransformer "
   ]
  },
  {
   "cell_type": "code",
   "execution_count": 2,
   "metadata": {
    "colab": {
     "base_uri": "https://localhost:8080/",
     "height": 629
    },
    "executionInfo": {
     "elapsed": 1395,
     "status": "ok",
     "timestamp": 1684479184058,
     "user": {
      "displayName": "Pietro Willi",
      "userId": "15277835975467968244"
     },
     "user_tz": -120
    },
    "id": "_8zvNNRZulUk",
    "outputId": "330a238e-fbb1-44c4-d3ed-67b09f410191",
    "scrolled": true
   },
   "outputs": [
    {
     "data": {
      "text/html": [
       "<div>\n",
       "<style scoped>\n",
       "    .dataframe tbody tr th:only-of-type {\n",
       "        vertical-align: middle;\n",
       "    }\n",
       "\n",
       "    .dataframe tbody tr th {\n",
       "        vertical-align: top;\n",
       "    }\n",
       "\n",
       "    .dataframe thead th {\n",
       "        text-align: right;\n",
       "    }\n",
       "</style>\n",
       "<table border=\"1\" class=\"dataframe\">\n",
       "  <thead>\n",
       "    <tr style=\"text-align: right;\">\n",
       "      <th></th>\n",
       "      <th>index</th>\n",
       "      <th>Unnamed: 0.1</th>\n",
       "      <th>Unnamed: 0</th>\n",
       "      <th>id</th>\n",
       "      <th>title</th>\n",
       "      <th>common_name</th>\n",
       "      <th>description</th>\n",
       "      <th>cas</th>\n",
       "      <th>pubchem_id</th>\n",
       "      <th>chemical_formula</th>\n",
       "      <th>...</th>\n",
       "      <th>fp122</th>\n",
       "      <th>fp123</th>\n",
       "      <th>fp124</th>\n",
       "      <th>fp125</th>\n",
       "      <th>fp126</th>\n",
       "      <th>fp127</th>\n",
       "      <th>fp128</th>\n",
       "      <th>binary_rat_ld50</th>\n",
       "      <th>LD50_level</th>\n",
       "      <th>LD50_rat_level</th>\n",
       "    </tr>\n",
       "  </thead>\n",
       "  <tbody>\n",
       "    <tr>\n",
       "      <th>0</th>\n",
       "      <td>0</td>\n",
       "      <td>0</td>\n",
       "      <td>0</td>\n",
       "      <td>2</td>\n",
       "      <td>T3D0001</td>\n",
       "      <td>Arsenic</td>\n",
       "      <td>Arsenic(As) is a ubiquitous metalloid found in...</td>\n",
       "      <td>7440-38-2</td>\n",
       "      <td>104734.0</td>\n",
       "      <td>As</td>\n",
       "      <td>...</td>\n",
       "      <td>0.0</td>\n",
       "      <td>0.0</td>\n",
       "      <td>0.0</td>\n",
       "      <td>0.0</td>\n",
       "      <td>0.0</td>\n",
       "      <td>0.0</td>\n",
       "      <td>0.0</td>\n",
       "      <td>0.0</td>\n",
       "      <td>3.0</td>\n",
       "      <td>2.0</td>\n",
       "    </tr>\n",
       "    <tr>\n",
       "      <th>1</th>\n",
       "      <td>1</td>\n",
       "      <td>1</td>\n",
       "      <td>3</td>\n",
       "      <td>5</td>\n",
       "      <td>T3D0004</td>\n",
       "      <td>Vinyl chloride</td>\n",
       "      <td>Vinyl chloride is a man-made organic compound,...</td>\n",
       "      <td>75-01-4</td>\n",
       "      <td>6338.0</td>\n",
       "      <td>C2H3Cl</td>\n",
       "      <td>...</td>\n",
       "      <td>0.0</td>\n",
       "      <td>0.0</td>\n",
       "      <td>0.0</td>\n",
       "      <td>0.0</td>\n",
       "      <td>0.0</td>\n",
       "      <td>0.0</td>\n",
       "      <td>1.0</td>\n",
       "      <td>0.0</td>\n",
       "      <td>2.0</td>\n",
       "      <td>2.0</td>\n",
       "    </tr>\n",
       "    <tr>\n",
       "      <th>2</th>\n",
       "      <td>2</td>\n",
       "      <td>2</td>\n",
       "      <td>4</td>\n",
       "      <td>7</td>\n",
       "      <td>T3D0006</td>\n",
       "      <td>Benzene</td>\n",
       "      <td>Benzene is a toxic, volatile, flammable liquid...</td>\n",
       "      <td>71-43-2</td>\n",
       "      <td>241.0</td>\n",
       "      <td>C6H6</td>\n",
       "      <td>...</td>\n",
       "      <td>0.0</td>\n",
       "      <td>0.0</td>\n",
       "      <td>0.0</td>\n",
       "      <td>0.0</td>\n",
       "      <td>0.0</td>\n",
       "      <td>0.0</td>\n",
       "      <td>0.0</td>\n",
       "      <td>1.0</td>\n",
       "      <td>5.0</td>\n",
       "      <td>3.0</td>\n",
       "    </tr>\n",
       "    <tr>\n",
       "      <th>3</th>\n",
       "      <td>3</td>\n",
       "      <td>3</td>\n",
       "      <td>5</td>\n",
       "      <td>8</td>\n",
       "      <td>T3D0007</td>\n",
       "      <td>Cadmium</td>\n",
       "      <td>Cadmium (group IIB of the periodic table of el...</td>\n",
       "      <td>7440-43-9</td>\n",
       "      <td>31193.0</td>\n",
       "      <td>Cd</td>\n",
       "      <td>...</td>\n",
       "      <td>0.0</td>\n",
       "      <td>0.0</td>\n",
       "      <td>0.0</td>\n",
       "      <td>0.0</td>\n",
       "      <td>0.0</td>\n",
       "      <td>0.0</td>\n",
       "      <td>0.0</td>\n",
       "      <td>0.0</td>\n",
       "      <td>2.0</td>\n",
       "      <td>1.0</td>\n",
       "    </tr>\n",
       "    <tr>\n",
       "      <th>4</th>\n",
       "      <td>4</td>\n",
       "      <td>5</td>\n",
       "      <td>9</td>\n",
       "      <td>13</td>\n",
       "      <td>T3D0012</td>\n",
       "      <td>Clofenotane</td>\n",
       "      <td>Insecticide. Clofenotane is a major component ...</td>\n",
       "      <td>50-29-3</td>\n",
       "      <td>3036.0</td>\n",
       "      <td>C14H9Cl5</td>\n",
       "      <td>...</td>\n",
       "      <td>0.0</td>\n",
       "      <td>0.0</td>\n",
       "      <td>0.0</td>\n",
       "      <td>0.0</td>\n",
       "      <td>0.0</td>\n",
       "      <td>0.0</td>\n",
       "      <td>0.0</td>\n",
       "      <td>0.0</td>\n",
       "      <td>1.0</td>\n",
       "      <td>1.0</td>\n",
       "    </tr>\n",
       "  </tbody>\n",
       "</table>\n",
       "<p>5 rows × 203 columns</p>\n",
       "</div>"
      ],
      "text/plain": [
       "   index  Unnamed: 0.1  Unnamed: 0  id    title     common_name  \\\n",
       "0      0             0           0   2  T3D0001         Arsenic   \n",
       "1      1             1           3   5  T3D0004  Vinyl chloride   \n",
       "2      2             2           4   7  T3D0006         Benzene   \n",
       "3      3             3           5   8  T3D0007         Cadmium   \n",
       "4      4             5           9  13  T3D0012     Clofenotane   \n",
       "\n",
       "                                         description        cas  pubchem_id  \\\n",
       "0  Arsenic(As) is a ubiquitous metalloid found in...  7440-38-2    104734.0   \n",
       "1  Vinyl chloride is a man-made organic compound,...    75-01-4      6338.0   \n",
       "2  Benzene is a toxic, volatile, flammable liquid...    71-43-2       241.0   \n",
       "3  Cadmium (group IIB of the periodic table of el...  7440-43-9     31193.0   \n",
       "4  Insecticide. Clofenotane is a major component ...    50-29-3      3036.0   \n",
       "\n",
       "  chemical_formula  ...  fp122 fp123 fp124 fp125 fp126 fp127 fp128  \\\n",
       "0               As  ...    0.0   0.0   0.0   0.0   0.0   0.0   0.0   \n",
       "1           C2H3Cl  ...    0.0   0.0   0.0   0.0   0.0   0.0   1.0   \n",
       "2             C6H6  ...    0.0   0.0   0.0   0.0   0.0   0.0   0.0   \n",
       "3               Cd  ...    0.0   0.0   0.0   0.0   0.0   0.0   0.0   \n",
       "4         C14H9Cl5  ...    0.0   0.0   0.0   0.0   0.0   0.0   0.0   \n",
       "\n",
       "  binary_rat_ld50 LD50_level LD50_rat_level  \n",
       "0             0.0        3.0            2.0  \n",
       "1             0.0        2.0            2.0  \n",
       "2             1.0        5.0            3.0  \n",
       "3             0.0        2.0            1.0  \n",
       "4             0.0        1.0            1.0  \n",
       "\n",
       "[5 rows x 203 columns]"
      ]
     },
     "execution_count": 2,
     "metadata": {},
     "output_type": "execute_result"
    }
   ],
   "source": [
    "#path = \"/content/drive/My Drive/Toxicity Project/DATA/fingerprint_df.csv\"\n",
    "path = \"DATA/fingerprint_df.csv\"\n",
    "df = pd.read_csv(path)\n",
    "df.head()"
   ]
  },
  {
   "cell_type": "code",
   "execution_count": 3,
   "metadata": {},
   "outputs": [],
   "source": [
    "B = 8"
   ]
  },
  {
   "cell_type": "code",
   "execution_count": 4,
   "metadata": {
    "colab": {
     "base_uri": "https://localhost:8080/",
     "height": 678
    },
    "executionInfo": {
     "elapsed": 21,
     "status": "error",
     "timestamp": 1684486283685,
     "user": {
      "displayName": "Pietro Willi",
      "userId": "15277835975467968244"
     },
     "user_tz": -120
    },
    "id": "gUeBooAsBAYd",
    "outputId": "b140a7e8-a65e-40aa-cc96-226f13b9aafa"
   },
   "outputs": [
    {
     "name": "stdout",
     "output_type": "stream",
     "text": [
      "\n",
      "Test\n",
      "Length of longest string: 125\n",
      "ignored: 0\n",
      "token lengths: 126\n",
      "finger lengths: 128\n",
      "Largest value: 124.0\n",
      "Number of unique embedding values: 20\n",
      "x shape: torch.Size([6, 254])\n",
      "t shape: torch.Size([6, 3])\n"
     ]
    }
   ],
   "source": [
    "testset_torch = Dataset(data=df, label=\"LD50_rat_level\", purpose=\"test\",representation=\"both\", shuffle=True, qed=False, max_len=125)"
   ]
  },
  {
   "cell_type": "code",
   "execution_count": 5,
   "metadata": {},
   "outputs": [
    {
     "name": "stdout",
     "output_type": "stream",
     "text": [
      "Total model parameters: 6434819\n"
     ]
    },
    {
     "data": {
      "text/plain": [
       "<All keys matched successfully>"
      ]
     },
     "execution_count": 5,
     "metadata": {},
     "output_type": "execute_result"
    }
   ],
   "source": [
    "\"\"\"\n",
    "Loading Categorical transformer model\n",
    "\"\"\"\n",
    "dropout = 0.8\n",
    "n_embd = 512\n",
    "n_head = 1\n",
    "n_layers = 1\n",
    "transformer = ClassificationTransformer(n_embd=n_embd,n_head=n_head,n_layers=n_layers,seq_len=126,dropout=dropout,n_prop=128,n_class=int(max(df.LD50_rat_level)))\n",
    "total_params = sum(param.numel() for param in transformer.parameters())\n",
    "print(f\"Total model parameters: {total_params}\")\n",
    "transformer.load_state_dict(torch.load(\"Saved_models/toxformer_categorical_encoderdecoder_params.pth\"))"
   ]
  },
  {
   "cell_type": "code",
   "execution_count": 8,
   "metadata": {},
   "outputs": [
    {
     "name": "stdout",
     "output_type": "stream",
     "text": [
      "tensor([[37., 32., 67.,  ...,  0.,  0.,  0.],\n",
      "        [37., 32., 79.,  ...,  1.,  0.,  0.],\n",
      "        [37., 32., 67.,  ...,  1.,  0.,  0.],\n",
      "        [37., 32., 67.,  ...,  0.,  0.,  0.],\n",
      "        [37., 32., 79.,  ...,  0.,  0.,  0.],\n",
      "        [37., 32., 67.,  ...,  1.,  0.,  0.]], dtype=torch.float64)\n"
     ]
    },
    {
     "ename": "RuntimeError",
     "evalue": "expected scalar type Double but found Float",
     "output_type": "error",
     "traceback": [
      "\u001b[1;31m---------------------------------------------------------------------------\u001b[0m",
      "\u001b[1;31mRuntimeError\u001b[0m                              Traceback (most recent call last)",
      "\u001b[1;32m~\\AppData\\Local\\Temp\\ipykernel_25480\\3290119504.py\u001b[0m in \u001b[0;36m<module>\u001b[1;34m\u001b[0m\n\u001b[0;32m      3\u001b[0m \u001b[0mtransformer\u001b[0m \u001b[1;33m=\u001b[0m \u001b[0mtransformer\u001b[0m\u001b[1;33m.\u001b[0m\u001b[0mto\u001b[0m\u001b[1;33m(\u001b[0m\u001b[0mdevice\u001b[0m\u001b[1;33m)\u001b[0m\u001b[1;33m\u001b[0m\u001b[1;33m\u001b[0m\u001b[0m\n\u001b[0;32m      4\u001b[0m \u001b[0mprint\u001b[0m\u001b[1;33m(\u001b[0m\u001b[0mtestset_torch\u001b[0m\u001b[1;33m.\u001b[0m\u001b[0mmake\u001b[0m\u001b[1;33m(\u001b[0m\u001b[1;33m)\u001b[0m\u001b[1;33m[\u001b[0m\u001b[1;36m0\u001b[0m\u001b[1;33m]\u001b[0m\u001b[1;33m)\u001b[0m\u001b[1;33m\u001b[0m\u001b[1;33m\u001b[0m\u001b[0m\n\u001b[1;32m----> 5\u001b[1;33m \u001b[0my\u001b[0m \u001b[1;33m=\u001b[0m \u001b[0mtransformer\u001b[0m\u001b[1;33m(\u001b[0m\u001b[0mtestset_torch\u001b[0m\u001b[1;33m.\u001b[0m\u001b[0mmake\u001b[0m\u001b[1;33m(\u001b[0m\u001b[1;33m)\u001b[0m\u001b[1;33m[\u001b[0m\u001b[1;36m0\u001b[0m\u001b[1;33m]\u001b[0m\u001b[1;33m)\u001b[0m\u001b[1;33m\u001b[0m\u001b[1;33m\u001b[0m\u001b[0m\n\u001b[0m\u001b[0;32m      6\u001b[0m \u001b[0mprint\u001b[0m\u001b[1;33m(\u001b[0m\u001b[0mtorch\u001b[0m\u001b[1;33m.\u001b[0m\u001b[0margmax\u001b[0m\u001b[1;33m(\u001b[0m\u001b[0mtestset_torch\u001b[0m\u001b[1;33m.\u001b[0m\u001b[0mmake\u001b[0m\u001b[1;33m(\u001b[0m\u001b[1;33m)\u001b[0m\u001b[1;33m[\u001b[0m\u001b[1;36m1\u001b[0m\u001b[1;33m]\u001b[0m\u001b[1;33m,\u001b[0m\u001b[0mdim\u001b[0m\u001b[1;33m=\u001b[0m\u001b[1;33m-\u001b[0m\u001b[1;36m1\u001b[0m\u001b[1;33m)\u001b[0m\u001b[1;33m)\u001b[0m\u001b[1;33m\u001b[0m\u001b[1;33m\u001b[0m\u001b[0m\n\u001b[0;32m      7\u001b[0m \u001b[0mprint\u001b[0m\u001b[1;33m(\u001b[0m\u001b[0mtorch\u001b[0m\u001b[1;33m.\u001b[0m\u001b[0margmax\u001b[0m\u001b[1;33m(\u001b[0m\u001b[0my\u001b[0m\u001b[1;33m,\u001b[0m\u001b[0mdim\u001b[0m\u001b[1;33m=\u001b[0m\u001b[1;33m-\u001b[0m\u001b[1;36m1\u001b[0m\u001b[1;33m)\u001b[0m\u001b[1;33m)\u001b[0m\u001b[1;33m\u001b[0m\u001b[1;33m\u001b[0m\u001b[0m\n",
      "\u001b[1;32m~\\anaconda3\\lib\\site-packages\\torch\\nn\\modules\\module.py\u001b[0m in \u001b[0;36m_call_impl\u001b[1;34m(self, *input, **kwargs)\u001b[0m\n\u001b[0;32m   1188\u001b[0m         if not (self._backward_hooks or self._forward_hooks or self._forward_pre_hooks or _global_backward_hooks\n\u001b[0;32m   1189\u001b[0m                 or _global_forward_hooks or _global_forward_pre_hooks):\n\u001b[1;32m-> 1190\u001b[1;33m             \u001b[1;32mreturn\u001b[0m \u001b[0mforward_call\u001b[0m\u001b[1;33m(\u001b[0m\u001b[1;33m*\u001b[0m\u001b[0minput\u001b[0m\u001b[1;33m,\u001b[0m \u001b[1;33m**\u001b[0m\u001b[0mkwargs\u001b[0m\u001b[1;33m)\u001b[0m\u001b[1;33m\u001b[0m\u001b[1;33m\u001b[0m\u001b[0m\n\u001b[0m\u001b[0;32m   1191\u001b[0m         \u001b[1;31m# Do not call functions when jit is used\u001b[0m\u001b[1;33m\u001b[0m\u001b[1;33m\u001b[0m\u001b[0m\n\u001b[0;32m   1192\u001b[0m         \u001b[0mfull_backward_hooks\u001b[0m\u001b[1;33m,\u001b[0m \u001b[0mnon_full_backward_hooks\u001b[0m \u001b[1;33m=\u001b[0m \u001b[1;33m[\u001b[0m\u001b[1;33m]\u001b[0m\u001b[1;33m,\u001b[0m \u001b[1;33m[\u001b[0m\u001b[1;33m]\u001b[0m\u001b[1;33m\u001b[0m\u001b[1;33m\u001b[0m\u001b[0m\n",
      "\u001b[1;32m~\\My Drive\\Toxicity Project\\Toxformer_EncoderDecoder_Classifier.py\u001b[0m in \u001b[0;36mforward\u001b[1;34m(self, x)\u001b[0m\n\u001b[0;32m    160\u001b[0m         \u001b[0mtoken_emb\u001b[0m \u001b[1;33m=\u001b[0m \u001b[0mself\u001b[0m\u001b[1;33m.\u001b[0m\u001b[0mtoken_embedder\u001b[0m\u001b[1;33m(\u001b[0m\u001b[0mx\u001b[0m\u001b[1;33m.\u001b[0m\u001b[0mlong\u001b[0m\u001b[1;33m(\u001b[0m\u001b[1;33m)\u001b[0m\u001b[1;33m)\u001b[0m\u001b[1;33m\u001b[0m\u001b[1;33m\u001b[0m\u001b[0m\n\u001b[0;32m    161\u001b[0m         \u001b[0mx\u001b[0m \u001b[1;33m=\u001b[0m \u001b[0mself\u001b[0m\u001b[1;33m.\u001b[0m\u001b[0mposition_embedder\u001b[0m\u001b[1;33m(\u001b[0m\u001b[0mtoken_emb\u001b[0m\u001b[1;33m)\u001b[0m \u001b[1;31m# (B,T,C)\u001b[0m\u001b[1;33m\u001b[0m\u001b[1;33m\u001b[0m\u001b[0m\n\u001b[1;32m--> 162\u001b[1;33m         \u001b[0mprops\u001b[0m \u001b[1;33m=\u001b[0m \u001b[0mself\u001b[0m\u001b[1;33m.\u001b[0m\u001b[0mproperty_embedder\u001b[0m\u001b[1;33m(\u001b[0m\u001b[0mprops\u001b[0m\u001b[1;33m)\u001b[0m\u001b[1;33m\u001b[0m\u001b[1;33m\u001b[0m\u001b[0m\n\u001b[0m\u001b[0;32m    163\u001b[0m         \u001b[0mx_enc\u001b[0m \u001b[1;33m=\u001b[0m \u001b[0mself\u001b[0m\u001b[1;33m.\u001b[0m\u001b[0mEncoderBlock\u001b[0m\u001b[1;33m(\u001b[0m\u001b[0mx\u001b[0m\u001b[1;33m)\u001b[0m \u001b[1;31m# (B,T,C)\u001b[0m\u001b[1;33m\u001b[0m\u001b[1;33m\u001b[0m\u001b[0m\n\u001b[0;32m    164\u001b[0m         \u001b[0mx\u001b[0m \u001b[1;33m=\u001b[0m \u001b[0mself\u001b[0m\u001b[1;33m.\u001b[0m\u001b[0mDecoder1\u001b[0m\u001b[1;33m(\u001b[0m\u001b[0mprops\u001b[0m\u001b[1;33m,\u001b[0m\u001b[0mx_enc\u001b[0m\u001b[1;33m)\u001b[0m\u001b[1;33m\u001b[0m\u001b[1;33m\u001b[0m\u001b[0m\n",
      "\u001b[1;32m~\\anaconda3\\lib\\site-packages\\torch\\nn\\modules\\module.py\u001b[0m in \u001b[0;36m_call_impl\u001b[1;34m(self, *input, **kwargs)\u001b[0m\n\u001b[0;32m   1188\u001b[0m         if not (self._backward_hooks or self._forward_hooks or self._forward_pre_hooks or _global_backward_hooks\n\u001b[0;32m   1189\u001b[0m                 or _global_forward_hooks or _global_forward_pre_hooks):\n\u001b[1;32m-> 1190\u001b[1;33m             \u001b[1;32mreturn\u001b[0m \u001b[0mforward_call\u001b[0m\u001b[1;33m(\u001b[0m\u001b[1;33m*\u001b[0m\u001b[0minput\u001b[0m\u001b[1;33m,\u001b[0m \u001b[1;33m**\u001b[0m\u001b[0mkwargs\u001b[0m\u001b[1;33m)\u001b[0m\u001b[1;33m\u001b[0m\u001b[1;33m\u001b[0m\u001b[0m\n\u001b[0m\u001b[0;32m   1191\u001b[0m         \u001b[1;31m# Do not call functions when jit is used\u001b[0m\u001b[1;33m\u001b[0m\u001b[1;33m\u001b[0m\u001b[0m\n\u001b[0;32m   1192\u001b[0m         \u001b[0mfull_backward_hooks\u001b[0m\u001b[1;33m,\u001b[0m \u001b[0mnon_full_backward_hooks\u001b[0m \u001b[1;33m=\u001b[0m \u001b[1;33m[\u001b[0m\u001b[1;33m]\u001b[0m\u001b[1;33m,\u001b[0m \u001b[1;33m[\u001b[0m\u001b[1;33m]\u001b[0m\u001b[1;33m\u001b[0m\u001b[1;33m\u001b[0m\u001b[0m\n",
      "\u001b[1;32m~\\anaconda3\\lib\\site-packages\\torch\\nn\\modules\\linear.py\u001b[0m in \u001b[0;36mforward\u001b[1;34m(self, input)\u001b[0m\n\u001b[0;32m    112\u001b[0m \u001b[1;33m\u001b[0m\u001b[0m\n\u001b[0;32m    113\u001b[0m     \u001b[1;32mdef\u001b[0m \u001b[0mforward\u001b[0m\u001b[1;33m(\u001b[0m\u001b[0mself\u001b[0m\u001b[1;33m,\u001b[0m \u001b[0minput\u001b[0m\u001b[1;33m:\u001b[0m \u001b[0mTensor\u001b[0m\u001b[1;33m)\u001b[0m \u001b[1;33m->\u001b[0m \u001b[0mTensor\u001b[0m\u001b[1;33m:\u001b[0m\u001b[1;33m\u001b[0m\u001b[1;33m\u001b[0m\u001b[0m\n\u001b[1;32m--> 114\u001b[1;33m         \u001b[1;32mreturn\u001b[0m \u001b[0mF\u001b[0m\u001b[1;33m.\u001b[0m\u001b[0mlinear\u001b[0m\u001b[1;33m(\u001b[0m\u001b[0minput\u001b[0m\u001b[1;33m,\u001b[0m \u001b[0mself\u001b[0m\u001b[1;33m.\u001b[0m\u001b[0mweight\u001b[0m\u001b[1;33m,\u001b[0m \u001b[0mself\u001b[0m\u001b[1;33m.\u001b[0m\u001b[0mbias\u001b[0m\u001b[1;33m)\u001b[0m\u001b[1;33m\u001b[0m\u001b[1;33m\u001b[0m\u001b[0m\n\u001b[0m\u001b[0;32m    115\u001b[0m \u001b[1;33m\u001b[0m\u001b[0m\n\u001b[0;32m    116\u001b[0m     \u001b[1;32mdef\u001b[0m \u001b[0mextra_repr\u001b[0m\u001b[1;33m(\u001b[0m\u001b[0mself\u001b[0m\u001b[1;33m)\u001b[0m \u001b[1;33m->\u001b[0m \u001b[0mstr\u001b[0m\u001b[1;33m:\u001b[0m\u001b[1;33m\u001b[0m\u001b[1;33m\u001b[0m\u001b[0m\n",
      "\u001b[1;31mRuntimeError\u001b[0m: expected scalar type Double but found Float"
     ]
    }
   ],
   "source": [
    "device = torch.device(\"cpu\")\n",
    "transformer.eval()\n",
    "transformer = transformer.to(device)\n",
    "print(testset_torch.make()[0])\n",
    "y = transformer(testset_torch.make()[0])\n",
    "print(torch.argmax(testset_torch.make()[1],dim=-1))\n",
    "print(torch.argmax(y,dim=-1))"
   ]
  },
  {
   "cell_type": "code",
   "execution_count": 23,
   "metadata": {},
   "outputs": [
    {
     "name": "stderr",
     "output_type": "stream",
     "text": [
      "C:\\Anaconda\\lib\\site-packages\\sklearn\\base.py:329: UserWarning: Trying to unpickle estimator DecisionTreeClassifier from version 1.2.2 when using version 1.0.2. This might lead to breaking code or invalid results. Use at your own risk. For more info please refer to:\n",
      "https://scikit-learn.org/stable/modules/model_persistence.html#security-maintainability-limitations\n",
      "  warnings.warn(\n",
      "C:\\Anaconda\\lib\\site-packages\\sklearn\\base.py:329: UserWarning: Trying to unpickle estimator RandomForestClassifier from version 1.2.2 when using version 1.0.2. This might lead to breaking code or invalid results. Use at your own risk. For more info please refer to:\n",
      "https://scikit-learn.org/stable/modules/model_persistence.html#security-maintainability-limitations\n",
      "  warnings.warn(\n",
      "C:\\Anaconda\\lib\\site-packages\\sklearn\\base.py:329: UserWarning: Trying to unpickle estimator DecisionTreeRegressor from version 1.2.2 when using version 1.0.2. This might lead to breaking code or invalid results. Use at your own risk. For more info please refer to:\n",
      "https://scikit-learn.org/stable/modules/model_persistence.html#security-maintainability-limitations\n",
      "  warnings.warn(\n",
      "C:\\Anaconda\\lib\\site-packages\\sklearn\\base.py:329: UserWarning: Trying to unpickle estimator RandomForestRegressor from version 1.2.2 when using version 1.0.2. This might lead to breaking code or invalid results. Use at your own risk. For more info please refer to:\n",
      "https://scikit-learn.org/stable/modules/model_persistence.html#security-maintainability-limitations\n",
      "  warnings.warn(\n"
     ]
    }
   ],
   "source": [
    "\"\"\"\n",
    "Loading random forest models\n",
    "\"\"\"\n",
    "suffix = \"\"\n",
    "#suffix = \"/content/drive/My Drive/Toxicity Project/\"\n",
    "rf_cat = joblib.load(suffix+\"Saved_models/RandomForest_Classifier.joblib\")\n",
    "rf_reg = joblib.load(suffix+\"Saved_models/RandomForest_Regressor.joblib\")"
   ]
  },
  {
   "cell_type": "code",
   "execution_count": 24,
   "metadata": {},
   "outputs": [
    {
     "name": "stdout",
     "output_type": "stream",
     "text": [
      "\n",
      "Test\n",
      "ignored: 0\n",
      "Largest embedding value: 1.0\n",
      "Number of unique embedding values: 2\n",
      "x shape: (6, 128)\n",
      "t shape: (6,)\n"
     ]
    }
   ],
   "source": [
    "testset_cat = Dataset(data=df,label=\"LD50_rat_level\", purpose=\"test\", fingerprint=True, shuffle=False, max_len=192, qed=False, tensor=False)\n",
    "x_test, t_test = testset_cat.make()"
   ]
  },
  {
   "cell_type": "code",
   "execution_count": 25,
   "metadata": {},
   "outputs": [
    {
     "name": "stdout",
     "output_type": "stream",
     "text": [
      "[0 1 2 0 0 0]\n",
      "[0. 1. 2. 1. 2. 0.]\n"
     ]
    }
   ],
   "source": [
    "pred = rf_cat.predict(x_test)\n",
    "print(pred)\n",
    "print(t_test)"
   ]
  },
  {
   "cell_type": "code",
   "execution_count": 16,
   "metadata": {},
   "outputs": [
    {
     "name": "stdout",
     "output_type": "stream",
     "text": [
      "\n",
      "Test\n",
      "ignored: 0\n",
      "Largest embedding value: 1.0\n",
      "Number of unique embedding values: 2\n",
      "x shape: (6, 128)\n",
      "t shape: (6,)\n"
     ]
    }
   ],
   "source": [
    "testset_reg = Dataset(data=df,label=\"LD50_rat\", purpose=\"test\", fingerprint=True, shuffle=False, max_len=192, qed=False, tensor=False)\n",
    "x_test, t_test = testset_reg.make()"
   ]
  },
  {
   "cell_type": "code",
   "execution_count": 177,
   "metadata": {},
   "outputs": [
    {
     "name": "stdout",
     "output_type": "stream",
     "text": [
      "[ 976.45    904.575  3645.465  1029.521   290.2472 1658.6955]\n",
      "[8.700e+01 6.390e+02 5.628e+03 6.360e+02 9.000e+04 2.630e-01]\n"
     ]
    }
   ],
   "source": [
    "pred = rf_reg.predict(x_test)\n",
    "print(pred)\n",
    "print(t_test)"
   ]
  },
  {
   "cell_type": "code",
   "execution_count": 27,
   "metadata": {},
   "outputs": [],
   "source": [
    "level_dict = {0:\"High\", 1:\"Medium\", 2:\"Low\"}"
   ]
  },
  {
   "cell_type": "code",
   "execution_count": 58,
   "metadata": {},
   "outputs": [
    {
     "name": "stdout",
     "output_type": "stream",
     "text": [
      "\n",
      "Transformer prediction: Low (Confidence: 56.7%)\n",
      "Random forest classifier prediction: High\n",
      "Random forest regressor prediction: 751.184 mg/kg\n"
     ]
    },
    {
     "name": "stderr",
     "output_type": "stream",
     "text": [
      "C:\\Users\\Pietro Willi\\AppData\\Local\\Temp\\ipykernel_34376\\3614215548.py:4: UserWarning: Implicit dimension choice for softmax has been deprecated. Change the call to include dim=X as an argument.\n",
      "  p = torch.nn.functional.softmax(logit)\n"
     ]
    }
   ],
   "source": [
    "molecule = \"FP(=O)(OC(C)C)C\"\n",
    "transformer.eval()\n",
    "logit = transformer(testset_torch.tokenize(molecule, max_len=183))\n",
    "p = torch.nn.functional.softmax(logit)\n",
    "pred = torch.argmax(logit).item()\n",
    "print(f\"\\nTransformer prediction: {level_dict[pred]} (Confidence: {max(p)*100:0.1f}%)\")\n",
    "pred_rf_cat = rf_cat.predict(np.expand_dims(testset_cat.printfinger(molecule), axis=0))\n",
    "print(f\"Random forest classifier prediction: {level_dict[pred_rf_cat[0]]}\")\n",
    "pred_rf_reg = rf_reg.predict(np.expand_dims(testset_reg.printfinger(molecule), axis=0))\n",
    "print(f\"Random forest regressor prediction: {pred_rf_reg[0]} mg/kg\")"
   ]
  },
  {
   "cell_type": "code",
   "execution_count": null,
   "metadata": {},
   "outputs": [],
   "source": []
  }
 ],
 "metadata": {
  "colab": {
   "authorship_tag": "ABX9TyPHCFdKUihgnI8ZdijaXfed",
   "provenance": []
  },
  "kernelspec": {
   "display_name": "Python 3 (ipykernel)",
   "language": "python",
   "name": "python3"
  },
  "language_info": {
   "codemirror_mode": {
    "name": "ipython",
    "version": 3
   },
   "file_extension": ".py",
   "mimetype": "text/x-python",
   "name": "python",
   "nbconvert_exporter": "python",
   "pygments_lexer": "ipython3",
   "version": "3.9.13"
  }
 },
 "nbformat": 4,
 "nbformat_minor": 1
}
