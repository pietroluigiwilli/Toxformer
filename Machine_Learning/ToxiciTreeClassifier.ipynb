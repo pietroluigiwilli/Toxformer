{
 "cells": [
  {
   "cell_type": "markdown",
   "metadata": {
    "id": "ViVyVrgBhixO"
   },
   "source": [
    "**Remark**\n",
    "\n",
    "It is possible to compare a Random Forest, Regression Tree, and an XGBoost model. The choice of the evaluation metric will depend on the specific problem and the goals of the model. Some commonly used evaluation metrics for regression models include:\n",
    "\n",
    "- Mean Squared Error (MSE),  \n",
    "- Mean Absolute Error (MAE), \n",
    "- R-squared (R²), \n",
    "- Median Absolute Error (MedAE),\n",
    "- Mean Squared Log Error (MSLE).\n",
    "\n",
    "If the goal is to minimize the prediction error, then MAE, MSE or RMSE could be used. \n",
    "On the other hand, if the goal is to have a more interpretable model, then the simpler models such as Regression Tree could be compared using the R² metric.\n",
    "\n",
    "Therefore, the evaluation function should be chosen based on the problem and the goals of the model."
   ]
  },
  {
   "cell_type": "code",
   "execution_count": 3,
   "metadata": {
    "colab": {
     "base_uri": "https://localhost:8080/"
    },
    "executionInfo": {
     "elapsed": 42342,
     "status": "ok",
     "timestamp": 1684492450440,
     "user": {
      "displayName": "Tommy",
      "userId": "16120521597590363807"
     },
     "user_tz": -120
    },
    "id": "PoOMU9S8A1JE",
    "outputId": "c50dde88-e5cc-4851-a58a-a05009d051ab"
   },
   "outputs": [
    {
     "name": "stdout",
     "output_type": "stream",
     "text": [
      "Requirement already satisfied: rdkit in c:\\users\\pietr\\anaconda3\\lib\\site-packages (2022.9.2)\n",
      "Requirement already satisfied: Pillow in c:\\users\\pietr\\anaconda3\\lib\\site-packages (from rdkit) (9.2.0)\n",
      "Requirement already satisfied: numpy in c:\\users\\pietr\\anaconda3\\lib\\site-packages (from rdkit) (1.21.5)\n",
      "Requirement already satisfied: bayesian-optimization in c:\\users\\pietr\\anaconda3\\lib\\site-packages (1.4.3)\n",
      "Requirement already satisfied: colorama>=0.4.6 in c:\\users\\pietr\\anaconda3\\lib\\site-packages (from bayesian-optimization) (0.4.6)\n",
      "Requirement already satisfied: scipy>=1.0.0 in c:\\users\\pietr\\anaconda3\\lib\\site-packages (from bayesian-optimization) (1.9.1)\n",
      "Requirement already satisfied: scikit-learn>=0.18.0 in c:\\users\\pietr\\anaconda3\\lib\\site-packages (from bayesian-optimization) (1.0.2)\n",
      "Requirement already satisfied: numpy>=1.9.0 in c:\\users\\pietr\\anaconda3\\lib\\site-packages (from bayesian-optimization) (1.21.5)\n",
      "Requirement already satisfied: threadpoolctl>=2.0.0 in c:\\users\\pietr\\anaconda3\\lib\\site-packages (from scikit-learn>=0.18.0->bayesian-optimization) (2.2.0)\n",
      "Requirement already satisfied: joblib>=0.11 in c:\\users\\pietr\\anaconda3\\lib\\site-packages (from scikit-learn>=0.18.0->bayesian-optimization) (1.1.0)\n",
      "Requirement already satisfied: scikit-optimize in c:\\users\\pietr\\anaconda3\\lib\\site-packages (0.9.0)\n",
      "Requirement already satisfied: pyaml>=16.9 in c:\\users\\pietr\\anaconda3\\lib\\site-packages (from scikit-optimize) (23.5.9)\n",
      "Requirement already satisfied: scipy>=0.19.1 in c:\\users\\pietr\\anaconda3\\lib\\site-packages (from scikit-optimize) (1.9.1)\n",
      "Requirement already satisfied: scikit-learn>=0.20.0 in c:\\users\\pietr\\anaconda3\\lib\\site-packages (from scikit-optimize) (1.0.2)\n",
      "Requirement already satisfied: joblib>=0.11 in c:\\users\\pietr\\anaconda3\\lib\\site-packages (from scikit-optimize) (1.1.0)\n",
      "Requirement already satisfied: numpy>=1.13.3 in c:\\users\\pietr\\anaconda3\\lib\\site-packages (from scikit-optimize) (1.21.5)\n",
      "Requirement already satisfied: PyYAML in c:\\users\\pietr\\anaconda3\\lib\\site-packages (from pyaml>=16.9->scikit-optimize) (6.0)\n",
      "Requirement already satisfied: threadpoolctl>=2.0.0 in c:\\users\\pietr\\anaconda3\\lib\\site-packages (from scikit-learn>=0.20.0->scikit-optimize) (2.2.0)\n"
     ]
    }
   ],
   "source": [
    "!pip install rdkit\n",
    "!pip install bayesian-optimization\n",
    "!pip install scikit-optimize"
   ]
  },
  {
   "cell_type": "code",
   "execution_count": 18,
   "metadata": {
    "colab": {
     "base_uri": "https://localhost:8080/"
    },
    "executionInfo": {
     "elapsed": 25832,
     "status": "ok",
     "timestamp": 1684492487181,
     "user": {
      "displayName": "Tommy",
      "userId": "16120521597590363807"
     },
     "user_tz": -120
    },
    "id": "F-3lSHwZA9Df",
    "outputId": "21a6e96e-5f42-43b5-9316-6884cae177ce"
   },
   "outputs": [],
   "source": [
    "import xgboost as  xgb\n",
    "import sklearn\n",
    "from sklearn.model_selection import GridSearchCV, cross_val_score\n",
    "from sklearn.metrics import r2_score, mean_absolute_error, median_absolute_error, mean_squared_log_error\n",
    "import statsmodels.api as sm\n",
    "from sklearn.tree import DecisionTreeClassifier\n",
    "from sklearn.metrics import mean_squared_error, log_loss\n",
    "import matplotlib.pyplot as plt\n",
    "from sklearn.tree import plot_tree\n",
    "from statsmodels.formula.api import ols\n",
    "from bayes_opt import BayesianOptimization\n",
    "import pandas as pd\n",
    "import numpy as np\n",
    "import matplotlib.pyplot as plt\n",
    "import seaborn as sb\n",
    "from tqdm.notebook import tqdm\n",
    "#from google.colab import drive\n",
    "import math\n",
    "import rdkit\n",
    "from rdkit.Chem import AllChem as Chem\n",
    "from rdkit.Chem import QED\n",
    "from rdkit.Chem import MolSurf\n",
    "from rdkit.Chem import rdFreeSASA as SASA\n",
    "import os\n",
    "import joblib\n",
    "from dataframe_pipeline_script import Dataset\n",
    "#drive.mount('/content/drive')"
   ]
  },
  {
   "cell_type": "code",
   "execution_count": 8,
   "metadata": {
    "colab": {
     "base_uri": "https://localhost:8080/",
     "height": 577
    },
    "executionInfo": {
     "elapsed": 2206,
     "status": "ok",
     "timestamp": 1684492492124,
     "user": {
      "displayName": "Tommy",
      "userId": "16120521597590363807"
     },
     "user_tz": -120
    },
    "id": "K_U-07aDBEl2",
    "outputId": "e1fbf023-531d-429e-9f8b-8b6e1ce610d1"
   },
   "outputs": [
    {
     "data": {
      "text/html": [
       "<div>\n",
       "<style scoped>\n",
       "    .dataframe tbody tr th:only-of-type {\n",
       "        vertical-align: middle;\n",
       "    }\n",
       "\n",
       "    .dataframe tbody tr th {\n",
       "        vertical-align: top;\n",
       "    }\n",
       "\n",
       "    .dataframe thead th {\n",
       "        text-align: right;\n",
       "    }\n",
       "</style>\n",
       "<table border=\"1\" class=\"dataframe\">\n",
       "  <thead>\n",
       "    <tr style=\"text-align: right;\">\n",
       "      <th></th>\n",
       "      <th>index</th>\n",
       "      <th>Unnamed: 0.1</th>\n",
       "      <th>Unnamed: 0</th>\n",
       "      <th>id</th>\n",
       "      <th>title</th>\n",
       "      <th>common_name</th>\n",
       "      <th>description</th>\n",
       "      <th>cas</th>\n",
       "      <th>pubchem_id</th>\n",
       "      <th>chemical_formula</th>\n",
       "      <th>...</th>\n",
       "      <th>fp122</th>\n",
       "      <th>fp123</th>\n",
       "      <th>fp124</th>\n",
       "      <th>fp125</th>\n",
       "      <th>fp126</th>\n",
       "      <th>fp127</th>\n",
       "      <th>fp128</th>\n",
       "      <th>binary_rat_ld50</th>\n",
       "      <th>LD50_level</th>\n",
       "      <th>LD50_rat_level</th>\n",
       "    </tr>\n",
       "  </thead>\n",
       "  <tbody>\n",
       "    <tr>\n",
       "      <th>0</th>\n",
       "      <td>0</td>\n",
       "      <td>0</td>\n",
       "      <td>0</td>\n",
       "      <td>2</td>\n",
       "      <td>T3D0001</td>\n",
       "      <td>Arsenic</td>\n",
       "      <td>Arsenic(As) is a ubiquitous metalloid found in...</td>\n",
       "      <td>7440-38-2</td>\n",
       "      <td>104734.0</td>\n",
       "      <td>As</td>\n",
       "      <td>...</td>\n",
       "      <td>0.0</td>\n",
       "      <td>0.0</td>\n",
       "      <td>0.0</td>\n",
       "      <td>0.0</td>\n",
       "      <td>0.0</td>\n",
       "      <td>0.0</td>\n",
       "      <td>0.0</td>\n",
       "      <td>0.0</td>\n",
       "      <td>3.0</td>\n",
       "      <td>2.0</td>\n",
       "    </tr>\n",
       "    <tr>\n",
       "      <th>1</th>\n",
       "      <td>1</td>\n",
       "      <td>1</td>\n",
       "      <td>3</td>\n",
       "      <td>5</td>\n",
       "      <td>T3D0004</td>\n",
       "      <td>Vinyl chloride</td>\n",
       "      <td>Vinyl chloride is a man-made organic compound,...</td>\n",
       "      <td>75-01-4</td>\n",
       "      <td>6338.0</td>\n",
       "      <td>C2H3Cl</td>\n",
       "      <td>...</td>\n",
       "      <td>0.0</td>\n",
       "      <td>0.0</td>\n",
       "      <td>0.0</td>\n",
       "      <td>0.0</td>\n",
       "      <td>0.0</td>\n",
       "      <td>0.0</td>\n",
       "      <td>1.0</td>\n",
       "      <td>0.0</td>\n",
       "      <td>2.0</td>\n",
       "      <td>2.0</td>\n",
       "    </tr>\n",
       "    <tr>\n",
       "      <th>2</th>\n",
       "      <td>2</td>\n",
       "      <td>2</td>\n",
       "      <td>4</td>\n",
       "      <td>7</td>\n",
       "      <td>T3D0006</td>\n",
       "      <td>Benzene</td>\n",
       "      <td>Benzene is a toxic, volatile, flammable liquid...</td>\n",
       "      <td>71-43-2</td>\n",
       "      <td>241.0</td>\n",
       "      <td>C6H6</td>\n",
       "      <td>...</td>\n",
       "      <td>0.0</td>\n",
       "      <td>0.0</td>\n",
       "      <td>0.0</td>\n",
       "      <td>0.0</td>\n",
       "      <td>0.0</td>\n",
       "      <td>0.0</td>\n",
       "      <td>0.0</td>\n",
       "      <td>1.0</td>\n",
       "      <td>5.0</td>\n",
       "      <td>3.0</td>\n",
       "    </tr>\n",
       "    <tr>\n",
       "      <th>3</th>\n",
       "      <td>3</td>\n",
       "      <td>3</td>\n",
       "      <td>5</td>\n",
       "      <td>8</td>\n",
       "      <td>T3D0007</td>\n",
       "      <td>Cadmium</td>\n",
       "      <td>Cadmium (group IIB of the periodic table of el...</td>\n",
       "      <td>7440-43-9</td>\n",
       "      <td>31193.0</td>\n",
       "      <td>Cd</td>\n",
       "      <td>...</td>\n",
       "      <td>0.0</td>\n",
       "      <td>0.0</td>\n",
       "      <td>0.0</td>\n",
       "      <td>0.0</td>\n",
       "      <td>0.0</td>\n",
       "      <td>0.0</td>\n",
       "      <td>0.0</td>\n",
       "      <td>0.0</td>\n",
       "      <td>2.0</td>\n",
       "      <td>1.0</td>\n",
       "    </tr>\n",
       "    <tr>\n",
       "      <th>4</th>\n",
       "      <td>4</td>\n",
       "      <td>5</td>\n",
       "      <td>9</td>\n",
       "      <td>13</td>\n",
       "      <td>T3D0012</td>\n",
       "      <td>Clofenotane</td>\n",
       "      <td>Insecticide. Clofenotane is a major component ...</td>\n",
       "      <td>50-29-3</td>\n",
       "      <td>3036.0</td>\n",
       "      <td>C14H9Cl5</td>\n",
       "      <td>...</td>\n",
       "      <td>0.0</td>\n",
       "      <td>0.0</td>\n",
       "      <td>0.0</td>\n",
       "      <td>0.0</td>\n",
       "      <td>0.0</td>\n",
       "      <td>0.0</td>\n",
       "      <td>0.0</td>\n",
       "      <td>0.0</td>\n",
       "      <td>1.0</td>\n",
       "      <td>1.0</td>\n",
       "    </tr>\n",
       "  </tbody>\n",
       "</table>\n",
       "<p>5 rows × 203 columns</p>\n",
       "</div>"
      ],
      "text/plain": [
       "   index  Unnamed: 0.1  Unnamed: 0  id    title     common_name  \\\n",
       "0      0             0           0   2  T3D0001         Arsenic   \n",
       "1      1             1           3   5  T3D0004  Vinyl chloride   \n",
       "2      2             2           4   7  T3D0006         Benzene   \n",
       "3      3             3           5   8  T3D0007         Cadmium   \n",
       "4      4             5           9  13  T3D0012     Clofenotane   \n",
       "\n",
       "                                         description        cas  pubchem_id  \\\n",
       "0  Arsenic(As) is a ubiquitous metalloid found in...  7440-38-2    104734.0   \n",
       "1  Vinyl chloride is a man-made organic compound,...    75-01-4      6338.0   \n",
       "2  Benzene is a toxic, volatile, flammable liquid...    71-43-2       241.0   \n",
       "3  Cadmium (group IIB of the periodic table of el...  7440-43-9     31193.0   \n",
       "4  Insecticide. Clofenotane is a major component ...    50-29-3      3036.0   \n",
       "\n",
       "  chemical_formula  ...  fp122 fp123 fp124 fp125 fp126 fp127 fp128  \\\n",
       "0               As  ...    0.0   0.0   0.0   0.0   0.0   0.0   0.0   \n",
       "1           C2H3Cl  ...    0.0   0.0   0.0   0.0   0.0   0.0   1.0   \n",
       "2             C6H6  ...    0.0   0.0   0.0   0.0   0.0   0.0   0.0   \n",
       "3               Cd  ...    0.0   0.0   0.0   0.0   0.0   0.0   0.0   \n",
       "4         C14H9Cl5  ...    0.0   0.0   0.0   0.0   0.0   0.0   0.0   \n",
       "\n",
       "  binary_rat_ld50 LD50_level LD50_rat_level  \n",
       "0             0.0        3.0            2.0  \n",
       "1             0.0        2.0            2.0  \n",
       "2             1.0        5.0            3.0  \n",
       "3             0.0        2.0            1.0  \n",
       "4             0.0        1.0            1.0  \n",
       "\n",
       "[5 rows x 203 columns]"
      ]
     },
     "execution_count": 8,
     "metadata": {},
     "output_type": "execute_result"
    }
   ],
   "source": [
    "#path = \"/content/drive/My Drive/Toxicity Project/DATA/fingerprint_df.csv\"\n",
    "path = \"DATA/fingerprint_df.csv\"\n",
    "df = pd.read_csv(path)\n",
    "df.head()"
   ]
  },
  {
   "cell_type": "code",
   "execution_count": 10,
   "metadata": {},
   "outputs": [
    {
     "name": "stdout",
     "output_type": "stream",
     "text": [
      "\n",
      "Train\n"
     ]
    },
    {
     "name": "stderr",
     "output_type": "stream",
     "text": [
      "C:\\Users\\pietr\\My Drive\\Toxicity Project\\dataframe_pipeline_script.py:85: SettingWithCopyWarning: \n",
      "A value is trying to be set on a copy of a slice from a DataFrame.\n",
      "Try using .loc[row_indexer,col_indexer] = value instead\n",
      "\n",
      "See the caveats in the documentation: https://pandas.pydata.org/pandas-docs/stable/user_guide/indexing.html#returning-a-view-versus-a-copy\n",
      "  self.data[\"index\"] = list(range(len(self.data)))\n"
     ]
    },
    {
     "name": "stdout",
     "output_type": "stream",
     "text": [
      "ignored: 0\n",
      "Largest value: 667.869\n",
      "Number of unique embedding values: 618\n",
      "x shape: (394, 137)\n",
      "t shape: (394,)\n"
     ]
    }
   ],
   "source": [
    "trainset = Dataset(data=df, label=\"LD50_rat_level\", representation=\"finger\", purpose=\"train\", shuffle=False, qed=True, tensor=False)\n",
    "X_train, t_train = trainset.make()"
   ]
  },
  {
   "cell_type": "code",
   "execution_count": 11,
   "metadata": {},
   "outputs": [
    {
     "name": "stdout",
     "output_type": "stream",
     "text": [
      "\n",
      "Val\n",
      "ignored: 1\n",
      "Largest value: 631.5709999999999\n",
      "Number of unique embedding values: 611\n",
      "x shape: (169, 137)\n",
      "t shape: (169,)\n"
     ]
    },
    {
     "name": "stderr",
     "output_type": "stream",
     "text": [
      "[20:11:57] Explicit valence for atom # 0 O, 3, is greater than permitted\n"
     ]
    }
   ],
   "source": [
    "valset = Dataset(data=df, label=\"LD50_rat_level\", representation=\"finger\", purpose=\"val\", shuffle=False, qed=True, tensor=False)\n",
    "X_val, t_val = valset.make()"
   ]
  },
  {
   "cell_type": "code",
   "execution_count": 12,
   "metadata": {
    "colab": {
     "base_uri": "https://localhost:8080/",
     "height": 484
    },
    "executionInfo": {
     "elapsed": 1338,
     "status": "ok",
     "timestamp": 1684492877696,
     "user": {
      "displayName": "Tommy",
      "userId": "16120521597590363807"
     },
     "user_tz": -120
    },
    "id": "amBslN1Ohlzv",
    "outputId": "970b03e7-8921-4ff5-c5af-75b02ea8c1ab"
   },
   "outputs": [
    {
     "data": {
      "text/plain": [
       "(array([76.,  0.,  0.,  0.,  0., 27.,  0.,  0.,  0., 66.]),\n",
       " array([0. , 0.2, 0.4, 0.6, 0.8, 1. , 1.2, 1.4, 1.6, 1.8, 2. ]),\n",
       " <BarContainer object of 10 artists>)"
      ]
     },
     "execution_count": 12,
     "metadata": {},
     "output_type": "execute_result"
    },
    {
     "data": {
      "image/png": "[encoded data removed]",
      "text/plain": [
       "<Figure size 640x480 with 1 Axes>"
      ]
     },
     "metadata": {},
     "output_type": "display_data"
    }
   ],
   "source": [
    "plt.hist(t_train)\n",
    "plt.hist(t_val)"
   ]
  },
  {
   "cell_type": "code",
   "execution_count": 13,
   "metadata": {
    "id": "JjaJRiWlAg16"
   },
   "outputs": [],
   "source": [
    "#========Setting up a confusion matrix=============\n",
    "\n",
    "def confusion_matrix(y_true, y_pred):\n",
    "    \"\"\"\n",
    "    Calculate the confusion matrix for a multi-class classification task with 3 classes.\n",
    "    \n",
    "    Parameters:\n",
    "    y_true: 1D array of integers representing the true labels\n",
    "    y_pred: 1D array of integers representing the predicted labels\n",
    "    \n",
    "    Returns:\n",
    "    Confusion matrix (2D array of integers)\n",
    "    \"\"\"\n",
    "    # initialize the confusion matrix\n",
    "    cm = np.zeros((3, 3))\n",
    "    \n",
    "    # populate the confusion matrix\n",
    "    for true_label, pred_label in zip(y_true, y_pred):\n",
    "        cm[pred_label,true_label] += 1\n",
    "\n",
    "    cm_norm = cm.copy()\n",
    "    print(cm_norm)\n",
    "    for i in range(len(cm_norm)):\n",
    "        cm_norm[:,i] = cm_norm[:,i]/sum(cm_norm[:,i])\n",
    "    print(cm_norm)\n",
    "    plt.figure()\n",
    "    plt.imshow(cm_norm)\n",
    "    # add the numbers to the plot squares\n",
    "    for i in range(cm_norm.shape[0]):\n",
    "        for j in range(cm_norm.shape[1]):\n",
    "            plt.text(j, i, f\"{cm_norm[i, j]:0.3f}\", ha='center', va='center')\n",
    "    plt.locator_params(nbins=4)\n",
    "    plt.ylabel('Predicted label')\n",
    "    plt.xlabel('True label')\n",
    "\n",
    "    plt.show()\n",
    "\n",
    "    plt.figure()\n",
    "    plt.imshow(cm)\n",
    "    # add the numbers to the plot squares\n",
    "    for i in range(cm.shape[0]):\n",
    "        for j in range(cm.shape[1]):\n",
    "            plt.text(j, i, cm[i, j], ha='center', va='center')\n",
    "    plt.locator_params(nbins=4)\n",
    "    plt.ylabel('Predicted label')\n",
    "    plt.xlabel('True label')\n",
    "\n",
    "    plt.show()\n",
    "\n",
    "    return cm, cm_norm"
   ]
  },
  {
   "cell_type": "code",
   "execution_count": 15,
   "metadata": {
    "colab": {
     "base_uri": "https://localhost:8080/"
    },
    "executionInfo": {
     "elapsed": 64453,
     "status": "ok",
     "timestamp": 1684492614139,
     "user": {
      "displayName": "Tommy",
      "userId": "16120521597590363807"
     },
     "user_tz": -120
    },
    "id": "8QFGz08lfb5k",
    "outputId": "95c5cea2-6aa4-4f53-f3a3-d09215db8bbf"
   },
   "outputs": [
    {
     "name": "stdout",
     "output_type": "stream",
     "text": [
      "|   iter    |  target   |   gamma   | max_depth | min_ch... | n_esti... | subsample |\n",
      "-------------------------------------------------------------------------------------\n",
      "[20:13:04] WARNING: C:\\buildkite-agent\\builds\\buildkite-windows-cpu-autoscaling-group-i-07593ffd91cd9da33-1\\xgboost\\xgboost-ci-windows\\src\\learner.cc:767: \n",
      "Parameters: { \"silent\" } are not used.\n",
      "\n",
      "[20:13:04] WARNING: C:\\buildkite-agent\\builds\\buildkite-windows-cpu-autoscaling-group-i-07593ffd91cd9da33-1\\xgboost\\xgboost-ci-windows\\src\\learner.cc:767: \n",
      "Parameters: { \"silent\" } are not used.\n",
      "\n",
      "[20:13:04] WARNING: C:\\buildkite-agent\\builds\\buildkite-windows-cpu-autoscaling-group-i-07593ffd91cd9da33-1\\xgboost\\xgboost-ci-windows\\src\\learner.cc:767: \n",
      "Parameters: { \"silent\" } are not used.\n",
      "\n",
      "[20:13:04] WARNING: C:\\buildkite-agent\\builds\\buildkite-windows-cpu-autoscaling-group-i-07593ffd91cd9da33-1\\xgboost\\xgboost-ci-windows\\src\\learner.cc:767: \n",
      "Parameters: { \"silent\" } are not used.\n",
      "\n",
      "[20:13:05] WARNING: C:\\buildkite-agent\\builds\\buildkite-windows-cpu-autoscaling-group-i-07593ffd91cd9da33-1\\xgboost\\xgboost-ci-windows\\src\\learner.cc:767: \n",
      "Parameters: { \"silent\" } are not used.\n",
      "\n",
      "[20:13:05] WARNING: C:\\buildkite-agent\\builds\\buildkite-windows-cpu-autoscaling-group-i-07593ffd91cd9da33-1\\xgboost\\xgboost-ci-windows\\src\\learner.cc:767: \n",
      "Parameters: { \"silent\" } are not used.\n",
      "\n",
      "[20:13:05] WARNING: C:\\buildkite-agent\\builds\\buildkite-windows-cpu-autoscaling-group-i-07593ffd91cd9da33-1\\xgboost\\xgboost-ci-windows\\src\\learner.cc:767: \n",
      "Parameters: { \"silent\" } are not used.\n",
      "\n",
      "[20:13:05] WARNING: C:\\buildkite-agent\\builds\\buildkite-windows-cpu-autoscaling-group-i-07593ffd91cd9da33-1\\xgboost\\xgboost-ci-windows\\src\\learner.cc:767: \n",
      "Parameters: { \"silent\" } are not used.\n",
      "\n",
      "[20:13:05] WARNING: C:\\buildkite-agent\\builds\\buildkite-windows-cpu-autoscaling-group-i-07593ffd91cd9da33-1\\xgboost\\xgboost-ci-windows\\src\\learner.cc:767: \n",
      "Parameters: { \"silent\" } are not used.\n",
      "\n",
      "[20:13:05] WARNING: C:\\buildkite-agent\\builds\\buildkite-windows-cpu-autoscaling-group-i-07593ffd91cd9da33-1\\xgboost\\xgboost-ci-windows\\src\\learner.cc:767: \n",
      "Parameters: { \"silent\" } are not used.\n",
      "\n",
      "[20:13:05] WARNING: C:\\buildkite-agent\\builds\\buildkite-windows-cpu-autoscaling-group-i-07593ffd91cd9da33-1\\xgboost\\xgboost-ci-windows\\src\\learner.cc:767: \n",
      "Parameters: { \"silent\" } are not used.\n",
      "\n",
      "[20:13:05] WARNING: C:\\buildkite-agent\\builds\\buildkite-windows-cpu-autoscaling-group-i-07593ffd91cd9da33-1\\xgboost\\xgboost-ci-windows\\src\\learner.cc:767: \n",
      "Parameters: { \"silent\" } are not used.\n",
      "\n",
      "[20:13:05] WARNING: C:\\buildkite-agent\\builds\\buildkite-windows-cpu-autoscaling-group-i-07593ffd91cd9da33-1\\xgboost\\xgboost-ci-windows\\src\\learner.cc:767: \n",
      "Parameters: { \"silent\" } are not used.\n",
      "\n",
      "[20:13:06] WARNING: C:\\buildkite-agent\\builds\\buildkite-windows-cpu-autoscaling-group-i-07593ffd91cd9da33-1\\xgboost\\xgboost-ci-windows\\src\\learner.cc:767: \n",
      "Parameters: { \"silent\" } are not used.\n",
      "\n",
      "[20:13:06] WARNING: C:\\buildkite-agent\\builds\\buildkite-windows-cpu-autoscaling-group-i-07593ffd91cd9da33-1\\xgboost\\xgboost-ci-windows\\src\\learner.cc:767: \n",
      "Parameters: { \"silent\" } are not used.\n",
      "\n",
      "[20:13:06] WARNING: C:\\buildkite-agent\\builds\\buildkite-windows-cpu-autoscaling-group-i-07593ffd91cd9da33-1\\xgboost\\xgboost-ci-windows\\src\\learner.cc:767: \n",
      "Parameters: { \"silent\" } are not used.\n",
      "\n",
      "[20:13:06] WARNING: C:\\buildkite-agent\\builds\\buildkite-windows-cpu-autoscaling-group-i-07593ffd91cd9da33-1\\xgboost\\xgboost-ci-windows\\src\\learner.cc:767: \n",
      "Parameters: { \"silent\" } are not used.\n",
      "\n",
      "[20:13:06] WARNING: C:\\buildkite-agent\\builds\\buildkite-windows-cpu-autoscaling-group-i-07593ffd91cd9da33-1\\xgboost\\xgboost-ci-windows\\src\\learner.cc:767: \n",
      "Parameters: { \"silent\" } are not used.\n",
      "\n",
      "[20:13:06] WARNING: C:\\buildkite-agent\\builds\\buildkite-windows-cpu-autoscaling-group-i-07593ffd91cd9da33-1\\xgboost\\xgboost-ci-windows\\src\\learner.cc:767: \n",
      "Parameters: { \"silent\" } are not used.\n",
      "\n",
      "[20:13:07] WARNING: C:\\buildkite-agent\\builds\\buildkite-windows-cpu-autoscaling-group-i-07593ffd91cd9da33-1\\xgboost\\xgboost-ci-windows\\src\\learner.cc:767: \n",
      "Parameters: { \"silent\" } are not used.\n",
      "\n",
      "| \u001b[95m4        \u001b[0m | \u001b[95m-0.4554  \u001b[0m | \u001b[95m0.5616   \u001b[0m | \u001b[95m15.59    \u001b[0m | \u001b[95m0.2363   \u001b[0m | \u001b[95m193.4    \u001b[0m | \u001b[95m0.9296   \u001b[0m |\n",
      "[20:13:07] WARNING: C:\\buildkite-agent\\builds\\buildkite-windows-cpu-autoscaling-group-i-07593ffd91cd9da33-1\\xgboost\\xgboost-ci-windows\\src\\learner.cc:767: \n",
      "Parameters: { \"silent\" } are not used.\n",
      "\n",
      "[20:13:07] WARNING: C:\\buildkite-agent\\builds\\buildkite-windows-cpu-autoscaling-group-i-07593ffd91cd9da33-1\\xgboost\\xgboost-ci-windows\\src\\learner.cc:767: \n",
      "Parameters: { \"silent\" } are not used.\n",
      "\n",
      "[20:13:07] WARNING: C:\\buildkite-agent\\builds\\buildkite-windows-cpu-autoscaling-group-i-07593ffd91cd9da33-1\\xgboost\\xgboost-ci-windows\\src\\learner.cc:767: \n",
      "Parameters: { \"silent\" } are not used.\n",
      "\n",
      "[20:13:07] WARNING: C:\\buildkite-agent\\builds\\buildkite-windows-cpu-autoscaling-group-i-07593ffd91cd9da33-1\\xgboost\\xgboost-ci-windows\\src\\learner.cc:767: \n",
      "Parameters: { \"silent\" } are not used.\n",
      "\n",
      "[20:13:07] WARNING: C:\\buildkite-agent\\builds\\buildkite-windows-cpu-autoscaling-group-i-07593ffd91cd9da33-1\\xgboost\\xgboost-ci-windows\\src\\learner.cc:767: \n",
      "Parameters: { \"silent\" } are not used.\n",
      "\n",
      "[20:13:07] WARNING: C:\\buildkite-agent\\builds\\buildkite-windows-cpu-autoscaling-group-i-07593ffd91cd9da33-1\\xgboost\\xgboost-ci-windows\\src\\learner.cc:767: \n",
      "Parameters: { \"silent\" } are not used.\n",
      "\n",
      "[20:13:07] WARNING: C:\\buildkite-agent\\builds\\buildkite-windows-cpu-autoscaling-group-i-07593ffd91cd9da33-1\\xgboost\\xgboost-ci-windows\\src\\learner.cc:767: \n",
      "Parameters: { \"silent\" } are not used.\n",
      "\n",
      "[20:13:08] WARNING: C:\\buildkite-agent\\builds\\buildkite-windows-cpu-autoscaling-group-i-07593ffd91cd9da33-1\\xgboost\\xgboost-ci-windows\\src\\learner.cc:767: \n",
      "Parameters: { \"silent\" } are not used.\n",
      "\n",
      "[20:13:08] WARNING: C:\\buildkite-agent\\builds\\buildkite-windows-cpu-autoscaling-group-i-07593ffd91cd9da33-1\\xgboost\\xgboost-ci-windows\\src\\learner.cc:767: \n",
      "Parameters: { \"silent\" } are not used.\n",
      "\n",
      "[20:13:08] WARNING: C:\\buildkite-agent\\builds\\buildkite-windows-cpu-autoscaling-group-i-07593ffd91cd9da33-1\\xgboost\\xgboost-ci-windows\\src\\learner.cc:767: \n",
      "Parameters: { \"silent\" } are not used.\n",
      "\n",
      "[20:13:08] WARNING: C:\\buildkite-agent\\builds\\buildkite-windows-cpu-autoscaling-group-i-07593ffd91cd9da33-1\\xgboost\\xgboost-ci-windows\\src\\learner.cc:767: \n",
      "Parameters: { \"silent\" } are not used.\n",
      "\n",
      "[20:13:08] WARNING: C:\\buildkite-agent\\builds\\buildkite-windows-cpu-autoscaling-group-i-07593ffd91cd9da33-1\\xgboost\\xgboost-ci-windows\\src\\learner.cc:767: \n",
      "Parameters: { \"silent\" } are not used.\n",
      "\n",
      "[20:13:08] WARNING: C:\\buildkite-agent\\builds\\buildkite-windows-cpu-autoscaling-group-i-07593ffd91cd9da33-1\\xgboost\\xgboost-ci-windows\\src\\learner.cc:767: \n",
      "Parameters: { \"silent\" } are not used.\n",
      "\n",
      "[20:13:08] WARNING: C:\\buildkite-agent\\builds\\buildkite-windows-cpu-autoscaling-group-i-07593ffd91cd9da33-1\\xgboost\\xgboost-ci-windows\\src\\learner.cc:767: \n",
      "Parameters: { \"silent\" } are not used.\n",
      "\n",
      "[20:13:08] WARNING: C:\\buildkite-agent\\builds\\buildkite-windows-cpu-autoscaling-group-i-07593ffd91cd9da33-1\\xgboost\\xgboost-ci-windows\\src\\learner.cc:767: \n",
      "Parameters: { \"silent\" } are not used.\n",
      "\n",
      "[20:13:09] WARNING: C:\\buildkite-agent\\builds\\buildkite-windows-cpu-autoscaling-group-i-07593ffd91cd9da33-1\\xgboost\\xgboost-ci-windows\\src\\learner.cc:767: \n",
      "Parameters: { \"silent\" } are not used.\n",
      "\n",
      "[20:13:09] WARNING: C:\\buildkite-agent\\builds\\buildkite-windows-cpu-autoscaling-group-i-07593ffd91cd9da33-1\\xgboost\\xgboost-ci-windows\\src\\learner.cc:767: \n",
      "Parameters: { \"silent\" } are not used.\n",
      "\n",
      "[20:13:09] WARNING: C:\\buildkite-agent\\builds\\buildkite-windows-cpu-autoscaling-group-i-07593ffd91cd9da33-1\\xgboost\\xgboost-ci-windows\\src\\learner.cc:767: \n",
      "Parameters: { \"silent\" } are not used.\n",
      "\n",
      "[20:13:09] WARNING: C:\\buildkite-agent\\builds\\buildkite-windows-cpu-autoscaling-group-i-07593ffd91cd9da33-1\\xgboost\\xgboost-ci-windows\\src\\learner.cc:767: \n",
      "Parameters: { \"silent\" } are not used.\n",
      "\n",
      "[20:13:09] WARNING: C:\\buildkite-agent\\builds\\buildkite-windows-cpu-autoscaling-group-i-07593ffd91cd9da33-1\\xgboost\\xgboost-ci-windows\\src\\learner.cc:767: \n",
      "Parameters: { \"silent\" } are not used.\n",
      "\n",
      "[20:13:10] WARNING: C:\\buildkite-agent\\builds\\buildkite-windows-cpu-autoscaling-group-i-07593ffd91cd9da33-1\\xgboost\\xgboost-ci-windows\\src\\learner.cc:767: \n",
      "Parameters: { \"silent\" } are not used.\n",
      "\n",
      "[20:13:10] WARNING: C:\\buildkite-agent\\builds\\buildkite-windows-cpu-autoscaling-group-i-07593ffd91cd9da33-1\\xgboost\\xgboost-ci-windows\\src\\learner.cc:767: \n",
      "Parameters: { \"silent\" } are not used.\n",
      "\n"
     ]
    },
    {
     "name": "stdout",
     "output_type": "stream",
     "text": [
      "[20:13:10] WARNING: C:\\buildkite-agent\\builds\\buildkite-windows-cpu-autoscaling-group-i-07593ffd91cd9da33-1\\xgboost\\xgboost-ci-windows\\src\\learner.cc:767: \n",
      "Parameters: { \"silent\" } are not used.\n",
      "\n",
      "[20:13:10] WARNING: C:\\buildkite-agent\\builds\\buildkite-windows-cpu-autoscaling-group-i-07593ffd91cd9da33-1\\xgboost\\xgboost-ci-windows\\src\\learner.cc:767: \n",
      "Parameters: { \"silent\" } are not used.\n",
      "\n",
      "[20:13:10] WARNING: C:\\buildkite-agent\\builds\\buildkite-windows-cpu-autoscaling-group-i-07593ffd91cd9da33-1\\xgboost\\xgboost-ci-windows\\src\\learner.cc:767: \n",
      "Parameters: { \"silent\" } are not used.\n",
      "\n",
      "| \u001b[95m9        \u001b[0m | \u001b[95m-0.4046  \u001b[0m | \u001b[95m1.0      \u001b[0m | \u001b[95m11.85    \u001b[0m | \u001b[95m5.858    \u001b[0m | \u001b[95m202.4    \u001b[0m | \u001b[95m1.0      \u001b[0m |\n",
      "[20:13:10] WARNING: C:\\buildkite-agent\\builds\\buildkite-windows-cpu-autoscaling-group-i-07593ffd91cd9da33-1\\xgboost\\xgboost-ci-windows\\src\\learner.cc:767: \n",
      "Parameters: { \"silent\" } are not used.\n",
      "\n",
      "[20:13:10] WARNING: C:\\buildkite-agent\\builds\\buildkite-windows-cpu-autoscaling-group-i-07593ffd91cd9da33-1\\xgboost\\xgboost-ci-windows\\src\\learner.cc:767: \n",
      "Parameters: { \"silent\" } are not used.\n",
      "\n",
      "[20:13:11] WARNING: C:\\buildkite-agent\\builds\\buildkite-windows-cpu-autoscaling-group-i-07593ffd91cd9da33-1\\xgboost\\xgboost-ci-windows\\src\\learner.cc:767: \n",
      "Parameters: { \"silent\" } are not used.\n",
      "\n",
      "[20:13:11] WARNING: C:\\buildkite-agent\\builds\\buildkite-windows-cpu-autoscaling-group-i-07593ffd91cd9da33-1\\xgboost\\xgboost-ci-windows\\src\\learner.cc:767: \n",
      "Parameters: { \"silent\" } are not used.\n",
      "\n",
      "[20:13:11] WARNING: C:\\buildkite-agent\\builds\\buildkite-windows-cpu-autoscaling-group-i-07593ffd91cd9da33-1\\xgboost\\xgboost-ci-windows\\src\\learner.cc:767: \n",
      "Parameters: { \"silent\" } are not used.\n",
      "\n",
      "[20:13:11] WARNING: C:\\buildkite-agent\\builds\\buildkite-windows-cpu-autoscaling-group-i-07593ffd91cd9da33-1\\xgboost\\xgboost-ci-windows\\src\\learner.cc:767: \n",
      "Parameters: { \"silent\" } are not used.\n",
      "\n",
      "[20:13:11] WARNING: C:\\buildkite-agent\\builds\\buildkite-windows-cpu-autoscaling-group-i-07593ffd91cd9da33-1\\xgboost\\xgboost-ci-windows\\src\\learner.cc:767: \n",
      "Parameters: { \"silent\" } are not used.\n",
      "\n",
      "[20:13:11] WARNING: C:\\buildkite-agent\\builds\\buildkite-windows-cpu-autoscaling-group-i-07593ffd91cd9da33-1\\xgboost\\xgboost-ci-windows\\src\\learner.cc:767: \n",
      "Parameters: { \"silent\" } are not used.\n",
      "\n",
      "[20:13:11] WARNING: C:\\buildkite-agent\\builds\\buildkite-windows-cpu-autoscaling-group-i-07593ffd91cd9da33-1\\xgboost\\xgboost-ci-windows\\src\\learner.cc:767: \n",
      "Parameters: { \"silent\" } are not used.\n",
      "\n",
      "[20:13:11] WARNING: C:\\buildkite-agent\\builds\\buildkite-windows-cpu-autoscaling-group-i-07593ffd91cd9da33-1\\xgboost\\xgboost-ci-windows\\src\\learner.cc:767: \n",
      "Parameters: { \"silent\" } are not used.\n",
      "\n",
      "[20:13:12] WARNING: C:\\buildkite-agent\\builds\\buildkite-windows-cpu-autoscaling-group-i-07593ffd91cd9da33-1\\xgboost\\xgboost-ci-windows\\src\\learner.cc:767: \n",
      "Parameters: { \"silent\" } are not used.\n",
      "\n",
      "[20:13:12] WARNING: C:\\buildkite-agent\\builds\\buildkite-windows-cpu-autoscaling-group-i-07593ffd91cd9da33-1\\xgboost\\xgboost-ci-windows\\src\\learner.cc:767: \n",
      "Parameters: { \"silent\" } are not used.\n",
      "\n",
      "[20:13:12] WARNING: C:\\buildkite-agent\\builds\\buildkite-windows-cpu-autoscaling-group-i-07593ffd91cd9da33-1\\xgboost\\xgboost-ci-windows\\src\\learner.cc:767: \n",
      "Parameters: { \"silent\" } are not used.\n",
      "\n",
      "[20:13:12] WARNING: C:\\buildkite-agent\\builds\\buildkite-windows-cpu-autoscaling-group-i-07593ffd91cd9da33-1\\xgboost\\xgboost-ci-windows\\src\\learner.cc:767: \n",
      "Parameters: { \"silent\" } are not used.\n",
      "\n",
      "[20:13:12] WARNING: C:\\buildkite-agent\\builds\\buildkite-windows-cpu-autoscaling-group-i-07593ffd91cd9da33-1\\xgboost\\xgboost-ci-windows\\src\\learner.cc:767: \n",
      "Parameters: { \"silent\" } are not used.\n",
      "\n",
      "[20:13:12] WARNING: C:\\buildkite-agent\\builds\\buildkite-windows-cpu-autoscaling-group-i-07593ffd91cd9da33-1\\xgboost\\xgboost-ci-windows\\src\\learner.cc:767: \n",
      "Parameters: { \"silent\" } are not used.\n",
      "\n",
      "[20:13:12] WARNING: C:\\buildkite-agent\\builds\\buildkite-windows-cpu-autoscaling-group-i-07593ffd91cd9da33-1\\xgboost\\xgboost-ci-windows\\src\\learner.cc:767: \n",
      "Parameters: { \"silent\" } are not used.\n",
      "\n",
      "[20:13:12] WARNING: C:\\buildkite-agent\\builds\\buildkite-windows-cpu-autoscaling-group-i-07593ffd91cd9da33-1\\xgboost\\xgboost-ci-windows\\src\\learner.cc:767: \n",
      "Parameters: { \"silent\" } are not used.\n",
      "\n",
      "[20:13:13] WARNING: C:\\buildkite-agent\\builds\\buildkite-windows-cpu-autoscaling-group-i-07593ffd91cd9da33-1\\xgboost\\xgboost-ci-windows\\src\\learner.cc:767: \n",
      "Parameters: { \"silent\" } are not used.\n",
      "\n",
      "[20:13:13] WARNING: C:\\buildkite-agent\\builds\\buildkite-windows-cpu-autoscaling-group-i-07593ffd91cd9da33-1\\xgboost\\xgboost-ci-windows\\src\\learner.cc:767: \n",
      "Parameters: { \"silent\" } are not used.\n",
      "\n",
      "| \u001b[95m13       \u001b[0m | \u001b[95m-0.4023  \u001b[0m | \u001b[95m1.0      \u001b[0m | \u001b[95m14.92    \u001b[0m | \u001b[95m3.104    \u001b[0m | \u001b[95m208.8    \u001b[0m | \u001b[95m1.0      \u001b[0m |\n",
      "[20:13:13] WARNING: C:\\buildkite-agent\\builds\\buildkite-windows-cpu-autoscaling-group-i-07593ffd91cd9da33-1\\xgboost\\xgboost-ci-windows\\src\\learner.cc:767: \n",
      "Parameters: { \"silent\" } are not used.\n",
      "\n",
      "[20:13:13] WARNING: C:\\buildkite-agent\\builds\\buildkite-windows-cpu-autoscaling-group-i-07593ffd91cd9da33-1\\xgboost\\xgboost-ci-windows\\src\\learner.cc:767: \n",
      "Parameters: { \"silent\" } are not used.\n",
      "\n",
      "[20:13:13] WARNING: C:\\buildkite-agent\\builds\\buildkite-windows-cpu-autoscaling-group-i-07593ffd91cd9da33-1\\xgboost\\xgboost-ci-windows\\src\\learner.cc:767: \n",
      "Parameters: { \"silent\" } are not used.\n",
      "\n",
      "[20:13:13] WARNING: C:\\buildkite-agent\\builds\\buildkite-windows-cpu-autoscaling-group-i-07593ffd91cd9da33-1\\xgboost\\xgboost-ci-windows\\src\\learner.cc:767: \n",
      "Parameters: { \"silent\" } are not used.\n",
      "\n",
      "[20:13:14] WARNING: C:\\buildkite-agent\\builds\\buildkite-windows-cpu-autoscaling-group-i-07593ffd91cd9da33-1\\xgboost\\xgboost-ci-windows\\src\\learner.cc:767: \n",
      "Parameters: { \"silent\" } are not used.\n",
      "\n",
      "[20:13:14] WARNING: C:\\buildkite-agent\\builds\\buildkite-windows-cpu-autoscaling-group-i-07593ffd91cd9da33-1\\xgboost\\xgboost-ci-windows\\src\\learner.cc:767: \n",
      "Parameters: { \"silent\" } are not used.\n",
      "\n",
      "[20:13:14] WARNING: C:\\buildkite-agent\\builds\\buildkite-windows-cpu-autoscaling-group-i-07593ffd91cd9da33-1\\xgboost\\xgboost-ci-windows\\src\\learner.cc:767: \n",
      "Parameters: { \"silent\" } are not used.\n",
      "\n",
      "[20:13:14] WARNING: C:\\buildkite-agent\\builds\\buildkite-windows-cpu-autoscaling-group-i-07593ffd91cd9da33-1\\xgboost\\xgboost-ci-windows\\src\\learner.cc:767: \n",
      "Parameters: { \"silent\" } are not used.\n",
      "\n",
      "[20:13:14] WARNING: C:\\buildkite-agent\\builds\\buildkite-windows-cpu-autoscaling-group-i-07593ffd91cd9da33-1\\xgboost\\xgboost-ci-windows\\src\\learner.cc:767: \n",
      "Parameters: { \"silent\" } are not used.\n",
      "\n",
      "[20:13:14] WARNING: C:\\buildkite-agent\\builds\\buildkite-windows-cpu-autoscaling-group-i-07593ffd91cd9da33-1\\xgboost\\xgboost-ci-windows\\src\\learner.cc:767: \n",
      "Parameters: { \"silent\" } are not used.\n",
      "\n",
      "=====================================================================================\n",
      "Final result: {'target': -0.40231267929255576, 'params': {'gamma': 1.0, 'max_depth': 14.921237433463729, 'min_child_weight': 3.1037239651571324, 'n_estimators': 208.83396109376153, 'subsample': 1.0}}\n"
     ]
    }
   ],
   "source": [
    "#===========================XGBoost Regressor with Bayesian hyperparameter optimization===========================$\n",
    "\n",
    "def xgb_cv(n_estimators, max_depth, gamma, min_child_weight, subsample, data, targets):\n",
    "    estimator = xgb.XGBRegressor(\n",
    "        n_estimators=n_estimators,\n",
    "        max_depth=int(max_depth),\n",
    "        gamma=gamma,\n",
    "        min_child_weight=min_child_weight,\n",
    "        subsample=subsample,\n",
    "        silent=1,\n",
    "        objective='reg:squarederror'\n",
    "    )\n",
    "    cval = cross_val_score(estimator, data, targets, scoring='neg_mean_squared_error', cv=5)\n",
    "    return cval.mean()\n",
    "\n",
    "def optimize_xgb(data, targets):\n",
    "    def xgb_crossval(n_estimators, max_depth, gamma, min_child_weight, subsample):\n",
    "        return xgb_cv(\n",
    "            n_estimators=int(n_estimators),\n",
    "            max_depth=int(max_depth),\n",
    "            gamma=gamma,\n",
    "            min_child_weight=min_child_weight,\n",
    "            subsample=subsample,\n",
    "            data=data,\n",
    "            targets=targets\n",
    "        )\n",
    "\n",
    "    optimizer = BayesianOptimization(\n",
    "        f=xgb_crossval,\n",
    "        pbounds={\n",
    "            'n_estimators': (1, 250),\n",
    "            'max_depth': (1, 30),\n",
    "            'gamma': (0.001, 1.0),\n",
    "            'min_child_weight': (0.1, 10.0),\n",
    "            'subsample': (0.4, 1.0)\n",
    "        },\n",
    "        random_state=1234,\n",
    "        verbose=1\n",
    "    )\n",
    "    optimizer.maximize(n_iter=10)\n",
    "\n",
    "    print(\"Final result:\", optimizer.max)\n",
    "    return optimizer.max\n",
    "\n",
    "best = optimize_xgb(X_train, t_train)"
   ]
  },
  {
   "cell_type": "code",
   "execution_count": 21,
   "metadata": {
    "colab": {
     "base_uri": "https://localhost:8080/",
     "height": 1000
    },
    "executionInfo": {
     "elapsed": 1361,
     "status": "ok",
     "timestamp": 1684492650963,
     "user": {
      "displayName": "Tommy",
      "userId": "16120521597590363807"
     },
     "user_tz": -120
    },
    "id": "FZjfQLUKdBtu",
    "outputId": "4f771eb0-b5fe-48ba-da06-2d03f0611e8d"
   },
   "outputs": [
    {
     "name": "stdout",
     "output_type": "stream",
     "text": [
      "Performance XGB Regressor:\n",
      "Mean Absolute Error: 0.7514792899408284 mg/kg\n",
      "Benchmark: 0.8461888589335108 mg/kg\n",
      "R^2: -0.5345635618043354\n",
      "[[59. 22. 35.]\n",
      " [ 7.  3.  6.]\n",
      " [10.  2. 25.]]\n",
      "[[0.77631579 0.81481481 0.53030303]\n",
      " [0.09210526 0.11111111 0.09090909]\n",
      " [0.13157895 0.07407407 0.37878788]]\n"
     ]
    },
    {
     "data": {
      "image/png": "[encoded data removed]",
      "text/plain": [
       "<Figure size 640x480 with 1 Axes>"
      ]
     },
     "metadata": {},
     "output_type": "display_data"
    },
    {
     "data": {
      "image/png": "[encoded data removed]",
      "text/plain": [
       "<Figure size 640x480 with 1 Axes>"
      ]
     },
     "metadata": {},
     "output_type": "display_data"
    }
   ],
   "source": [
    "#=======XGBoost Regressor fit===========\n",
    "\n",
    "XGBreg = xgb.XGBClassifier(eval_metric='rmsle')\n",
    "XGBreg=xgb.XGBClassifier(learning_rate = 0.1,\n",
    "                           gamma = best[\"params\"][\"gamma\"],\n",
    "                           min_child_weight = int(best[\"params\"][\"min_child_weight\"]),\n",
    "                           n_estimators = int(best[\"params\"][\"n_estimators\"]),\n",
    "                           max_depth = int(best[\"params\"][\"max_depth\"]),\n",
    "                           subsample = best[\"params\"][\"subsample\"],\n",
    "                           eval_metric='rmsle')\n",
    "\n",
    "XGBreg.fit(X_train, t_train)\n",
    "XGBreg.score(X_val, t_val)\n",
    "xg_pred = XGBreg.predict(X_val)\n",
    "\n",
    "mae = sklearn.metrics.mean_absolute_error(t_val,xg_pred)\n",
    "mae_mean = np.mean(abs(t_val-np.mean(t_val)))\n",
    "r2 = sklearn.metrics.r2_score(t_val, xg_pred)\n",
    "\n",
    "print(\"Performance XGB Regressor:\")\n",
    "print(\"Mean Absolute Error:\", mae, \"mg/kg\")\n",
    "print(\"Benchmark:\", mae_mean, \"mg/kg\")\n",
    "print(\"R^2:\", r2)\n",
    "\n",
    "cm, cm_norm = confusion_matrix(t_val.astype(int), xg_pred.astype(int))\n",
    "\n",
    "#joblib.dump(XGBreg,\"/content/drive/My Drive/Toxicity Project/Saved_models/XGB_Classifier.joblib\")"
   ]
  },
  {
   "cell_type": "code",
   "execution_count": 22,
   "metadata": {
    "colab": {
     "base_uri": "https://localhost:8080/"
    },
    "executionInfo": {
     "elapsed": 807,
     "status": "ok",
     "timestamp": 1684492658109,
     "user": {
      "displayName": "Tommy",
      "userId": "16120521597590363807"
     },
     "user_tz": -120
    },
    "id": "4djTZ3Th869d",
    "outputId": "c9ff9121-24c7-46eb-b414-73ef09e55096"
   },
   "outputs": [
    {
     "name": "stdout",
     "output_type": "stream",
     "text": [
      "Mean squared error: 1.2840236686390532\n",
      "R-squared score: -0.5345635618043354\n",
      "Mean absolute error: 0.7514792899408284\n",
      "Median absolute error: 0.0\n"
     ]
    }
   ],
   "source": [
    "#==========Evaluation functions XGBoost================\n",
    "\n",
    "\n",
    "\n",
    "#mse \n",
    "mse = sklearn.metrics.mean_squared_error(t_val, xg_pred)\n",
    "#R2\n",
    "r2 = sklearn.metrics.r2_score(t_val, xg_pred)\n",
    "#Mean absolute error \n",
    "mae = sklearn.metrics.mean_absolute_error(t_val, xg_pred)\n",
    "#median absolute error \n",
    "medae = sklearn.metrics.median_absolute_error(t_val, xg_pred)\n",
    "#mse log error \n",
    "#msle = sklearn.metrics.mean_squared_log_error(t_val, xg_pred)\n",
    "\n",
    "print(\"Mean squared error:\", mse)\n",
    "print(\"R-squared score:\", r2)\n",
    "print(\"Mean absolute error:\", mae)\n",
    "print(\"Median absolute error:\", medae)\n",
    "#print(\"Mean squared logarithmic error:\", msle)"
   ]
  },
  {
   "cell_type": "code",
   "execution_count": 27,
   "metadata": {
    "colab": {
     "base_uri": "https://localhost:8080/",
     "height": 1000
    },
    "executionInfo": {
     "elapsed": 1360,
     "status": "ok",
     "timestamp": 1684492695899,
     "user": {
      "displayName": "Tommy",
      "userId": "16120521597590363807"
     },
     "user_tz": -120
    },
    "id": "yi3RQl2Shm0y",
    "outputId": "257d65bc-3080-4876-d0e2-ab5ebed331c0"
   },
   "outputs": [
    {
     "name": "stdout",
     "output_type": "stream",
     "text": [
      "CCELoss = 20.232774337847086\n",
      "Performance XGB Regressor:\n",
      "Mean Absolute Error: 0.8402366863905325 mg/kg\n",
      "Benchmark: 0.8461888589335108 mg/kg\n",
      "R^2: -0.6123524981169974\n",
      "[[39. 12. 26.]\n",
      " [20.  4. 13.]\n",
      " [17. 11. 27.]]\n",
      "[[0.51315789 0.44444444 0.39393939]\n",
      " [0.26315789 0.14814815 0.1969697 ]\n",
      " [0.22368421 0.40740741 0.40909091]]\n"
     ]
    },
    {
     "data": {
      "image/png": "[encoded data removed]",
      "text/plain": [
       "<Figure size 640x480 with 1 Axes>"
      ]
     },
     "metadata": {},
     "output_type": "display_data"
    },
    {
     "data": {
      "image/png": "[encoded data removed]",
      "text/plain": [
       "<Figure size 640x480 with 1 Axes>"
      ]
     },
     "metadata": {},
     "output_type": "display_data"
    }
   ],
   "source": [
    "#======Classification Tree=============\n",
    "\n",
    "\n",
    "\n",
    "dec_tree = DecisionTreeClassifier(criterion=\"gini\")\n",
    "dec_tree.fit(X_train, t_train)\n",
    "dt_pred = dec_tree.predict(X_val)\n",
    "\n",
    "cce = log_loss(t_val,np.eye(3)[dt_pred.astype(int)])\n",
    "print(f\"CCELoss = {cce}\")\n",
    "\n",
    "mae = sklearn.metrics.mean_absolute_error(t_val,dt_pred)\n",
    "mae_mean = np.mean(abs(t_val-np.mean(t_val)))\n",
    "r2 = sklearn.metrics.r2_score(t_val, dt_pred)\n",
    "\n",
    "print(\"Performance XGB Regressor:\")\n",
    "print(\"Mean Absolute Error:\", mae, \"mg/kg\")\n",
    "print(\"Benchmark:\", mae_mean, \"mg/kg\")\n",
    "print(\"R^2:\", r2)\n",
    "\n",
    "cm, cm_norm = confusion_matrix(t_val.astype(int), dt_pred.astype(int))\n",
    "\n",
    "# add labels and title\n",
    "#plt.ylabel('Predicted label')\n",
    "#plt.xlabel('True label')\n",
    "#plot_tree(reg_tree, filled=True, feature_names=df.columns[:-1], rounded=True, fontsize=10)\n",
    "#plt.show()\n",
    "\n",
    "#joblib.dump(dec_tree,\"/content/drive/My Drive/Toxicity Project/Saved_models/Classification_Tree.joblib\")"
   ]
  },
  {
   "cell_type": "code",
   "execution_count": null,
   "metadata": {
    "colab": {
     "base_uri": "https://localhost:8080/"
    },
    "executionInfo": {
     "elapsed": 4,
     "status": "ok",
     "timestamp": 1684492700252,
     "user": {
      "displayName": "Tommy",
      "userId": "16120521597590363807"
     },
     "user_tz": -120
    },
    "id": "IQZ2UKoIcnRS",
    "outputId": "d0de237a-84ba-4d25-fa8d-e0a97313fef2"
   },
   "outputs": [
    {
     "name": "stdout",
     "output_type": "stream",
     "text": [
      "Mean squared error: 1.6449704142011834\n",
      "R-squared score: -0.9659385722654619\n",
      "Mean absolute error: 0.9349112426035503\n",
      "Median absolute error: 1.0\n",
      "Mean squared logarithmic error: 0.508481575605154\n"
     ]
    }
   ],
   "source": [
    "#==========Evaluation functions regression tree================\n",
    "\n",
    "#mse \n",
    "tmse = sklearn.metrics.mean_squared_error(t_val, dt_pred)\n",
    "#R2\n",
    "tr2 = sklearn.metrics.r2_score(t_val, dt_pred)\n",
    "#Mean absolute error \n",
    "tmae = sklearn.metrics.mean_absolute_error(t_val, dt_pred)\n",
    "#median absolute error \n",
    "tmedae = sklearn.metrics.median_absolute_error(t_val, dt_pred)\n",
    "#mse log error \n",
    "tmsle = sklearn.metrics.mean_squared_log_error(t_val, dt_pred)\n",
    "\n",
    "print(\"Mean squared error:\", tmse)\n",
    "\n",
    "print(\"R-squared score:\", tr2)\n",
    "print(\"Mean absolute error:\", tmae)\n",
    "print(\"Median absolute error:\", tmedae)\n",
    "print(\"Mean squared logarithmic error:\", tmsle)"
   ]
  },
  {
   "cell_type": "code",
   "execution_count": 30,
   "metadata": {
    "colab": {
     "base_uri": "https://localhost:8080/",
     "height": 1000
    },
    "executionInfo": {
     "elapsed": 1106,
     "status": "ok",
     "timestamp": 1684492704782,
     "user": {
      "displayName": "Tommy",
      "userId": "16120521597590363807"
     },
     "user_tz": -120
    },
    "id": "XRLWlYEcHUn9",
    "outputId": "9c0a25a6-0de0-4bc3-babc-92336a1b4a50"
   },
   "outputs": [
    {
     "name": "stdout",
     "output_type": "stream",
     "text": [
      "CCELoss = 20.232774337847086\n",
      "Performance XGB Regressor:\n",
      "Mean Absolute Error: 0.893491124260355 mg/kg\n",
      "Benchmark: 0.8461888589335108 mg/kg\n",
      "R^2: -0.9164365218846768\n",
      "[[67. 26. 53.]\n",
      " [ 2.  0.  2.]\n",
      " [ 7.  1. 11.]]\n",
      "[[0.88157895 0.96296296 0.8030303 ]\n",
      " [0.02631579 0.         0.03030303]\n",
      " [0.09210526 0.03703704 0.16666667]]\n"
     ]
    },
    {
     "data": {
      "image/png": "[encoded data removed]",
      "text/plain": [
       "<Figure size 640x480 with 1 Axes>"
      ]
     },
     "metadata": {},
     "output_type": "display_data"
    },
    {
     "data": {
      "image/png": "[encoded data removed]",
      "text/plain": [
       "<Figure size 640x480 with 1 Axes>"
      ]
     },
     "metadata": {},
     "output_type": "display_data"
    }
   ],
   "source": [
    "#=======Random Forest Classifier=============\n",
    "\n",
    "from sklearn.ensemble import RandomForestClassifier\n",
    "\n",
    "dec_forest = RandomForestClassifier(criterion=\"gini\")\n",
    "dec_forest.fit(X_train, t_train)\n",
    "rf_pred = dec_forest.predict(X_val)\n",
    "\n",
    "cce = log_loss(t_val,np.eye(3)[dt_pred.astype(int)])\n",
    "print(f\"CCELoss = {cce}\")\n",
    "\n",
    "mae = sklearn.metrics.mean_absolute_error(t_val, rf_pred)\n",
    "mae_mean = np.mean(abs(t_val-np.mean(t_val)))\n",
    "r2 = sklearn.metrics.r2_score(t_val, rf_pred)\n",
    "\n",
    "print(\"Performance XGB Regressor:\")\n",
    "print(\"Mean Absolute Error:\", mae, \"mg/kg\")\n",
    "print(\"Benchmark:\", mae_mean, \"mg/kg\")\n",
    "print(\"R^2:\", r2)\n",
    "\n",
    "cm, cm_norm = confusion_matrix(t_val.astype(int), rf_pred.astype(int))\n",
    "\n",
    "#plt.ylabel('Predicted label')\n",
    "#plt.xlabel('True label')\n",
    "\n",
    "#joblib.dump(dec_forest,\"/content/drive/My Drive/Toxicity Project/Saved_models/RandomForest_Classifier.joblib\")"
   ]
  },
  {
   "cell_type": "code",
   "execution_count": null,
   "metadata": {
    "colab": {
     "base_uri": "https://localhost:8080/"
    },
    "executionInfo": {
     "elapsed": 529,
     "status": "ok",
     "timestamp": 1684492710925,
     "user": {
      "displayName": "Tommy",
      "userId": "16120521597590363807"
     },
     "user_tz": -120
    },
    "id": "z8bP8qwOB2aQ",
    "outputId": "0c01990f-c9e9-4d61-8a3b-562975fa48d5"
   },
   "outputs": [
    {
     "name": "stdout",
     "output_type": "stream",
     "text": [
      "Mean squared error: 1.4437869822485208\n",
      "R-squared score: -0.7255000418445061\n",
      "Mean absolute error: 0.8165680473372781\n",
      "Median absolute error: 1.0\n",
      "Mean squared logarithmic error: 0.46013334951671064\n"
     ]
    }
   ],
   "source": [
    "#==========Evaluation functions random forest================\n",
    "\n",
    "#mse \n",
    "rfmse = sklearn.metrics.mean_squared_error(t_val, rf_pred)\n",
    "#R2\n",
    "rfr2 = sklearn.metrics.r2_score(t_val, rf_pred)\n",
    "#Mean absolute error \n",
    "rfmae = sklearn.metrics.mean_absolute_error(t_val, rf_pred)\n",
    "#median absolute error \n",
    "rfmedae = sklearn.metrics.median_absolute_error(t_val, rf_pred)\n",
    "#mse log error \n",
    "rfmsle = sklearn.metrics.mean_squared_log_error(t_val, rf_pred)\n",
    "\n",
    "print(\"Mean squared error:\", rfmse)\n",
    "print(\"R-squared score:\", rfr2)\n",
    "print(\"Mean absolute error:\", rfmae)\n",
    "print(\"Median absolute error:\", rfmedae)\n",
    "print(\"Mean squared logarithmic error:\", rfmsle)"
   ]
  },
  {
   "cell_type": "markdown",
   "metadata": {
    "id": "H2iUZVTh1knN"
   },
   "source": [
    "**Anova**\n",
    "\n",
    "The following Anova table only confirms that the three different models are statistically different."
   ]
  },
  {
   "cell_type": "code",
   "execution_count": null,
   "metadata": {
    "colab": {
     "base_uri": "https://localhost:8080/"
    },
    "executionInfo": {
     "elapsed": 259,
     "status": "ok",
     "timestamp": 1684492751006,
     "user": {
      "displayName": "Tommy",
      "userId": "16120521597590363807"
     },
     "user_tz": -120
    },
    "id": "h-o70NMgit3t",
    "outputId": "2f0ad072-5230-46a6-ef99-41881101706c"
   },
   "outputs": [
    {
     "name": "stdout",
     "output_type": "stream",
     "text": [
      "              sum_sq     df          F        PR(>F)\n",
      "rt_resid   12.347796    1.0  15.382365  1.282775e-04\n",
      "rf_resid   29.860265    1.0  37.198664  7.254488e-09\n",
      "Residual  133.252204  166.0        NaN           NaN\n"
     ]
    }
   ],
   "source": [
    "#=======ANOVA implementation=========\n",
    "\n",
    "import statsmodels.api as sm\n",
    "\n",
    "#Compute residuals\n",
    "xgb_resid = t_val - xg_pred\n",
    "rt_resid = t_val - dt_pred\n",
    "rf_resid =  t_val - rf_pred\n",
    "\n",
    "# Create dataframe of residuals \n",
    "resid_df = df = pd.DataFrame({\"xgb_resid\": xgb_resid, \"rt_resid\": rt_resid, \"rf_resid\": rf_resid})\n",
    "\n",
    "# Create ANOVA table\n",
    "anova_model = ols('xgb_resid ~ rt_resid + rf_resid', data=resid_df).fit()\n",
    "\n",
    "# Print ANOVA table\n",
    "print(sm.stats.anova_lm(anova_model, typ=2))\n"
   ]
  }
 ],
 "metadata": {
  "colab": {
   "provenance": []
  },
  "kernelspec": {
   "display_name": "Python 3 (ipykernel)",
   "language": "python",
   "name": "python3"
  },
  "language_info": {
   "codemirror_mode": {
    "name": "ipython",
    "version": 3
   },
   "file_extension": ".py",
   "mimetype": "text/x-python",
   "name": "python",
   "nbconvert_exporter": "python",
   "pygments_lexer": "ipython3",
   "version": "3.9.13"
  }
 },
 "nbformat": 4,
 "nbformat_minor": 1
}
